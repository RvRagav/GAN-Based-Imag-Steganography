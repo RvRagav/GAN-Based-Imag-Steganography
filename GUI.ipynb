{
  "nbformat": 4,
  "nbformat_minor": 0,
  "metadata": {
    "colab": {
      "provenance": [],
      "gpuType": "T4"
    },
    "kernelspec": {
      "name": "python3",
      "display_name": "Python 3"
    },
    "language_info": {
      "name": "python"
    }
  },
  "cells": [
    {
      "cell_type": "code",
      "source": [
        "!pip install streamlit faker\n",
        "!pip install keras"
      ],
      "metadata": {
        "colab": {
          "base_uri": "https://localhost:8080/"
        },
        "id": "NMLc6Twhz1vE",
        "outputId": "01544c9a-f242-49e6-e04b-7dd91ef34932"
      },
      "execution_count": null,
      "outputs": [
        {
          "output_type": "stream",
          "name": "stdout",
          "text": [
            "Collecting streamlit\n",
            "  Downloading streamlit-1.44.1-py3-none-any.whl.metadata (8.9 kB)\n",
            "Collecting faker\n",
            "  Downloading faker-37.1.0-py3-none-any.whl.metadata (15 kB)\n",
            "Requirement already satisfied: altair<6,>=4.0 in /usr/local/lib/python3.11/dist-packages (from streamlit) (5.5.0)\n",
            "Requirement already satisfied: blinker<2,>=1.0.0 in /usr/local/lib/python3.11/dist-packages (from streamlit) (1.9.0)\n",
            "Requirement already satisfied: cachetools<6,>=4.0 in /usr/local/lib/python3.11/dist-packages (from streamlit) (5.5.2)\n",
            "Requirement already satisfied: click<9,>=7.0 in /usr/local/lib/python3.11/dist-packages (from streamlit) (8.1.8)\n",
            "Requirement already satisfied: numpy<3,>=1.23 in /usr/local/lib/python3.11/dist-packages (from streamlit) (2.0.2)\n",
            "Requirement already satisfied: packaging<25,>=20 in /usr/local/lib/python3.11/dist-packages (from streamlit) (24.2)\n",
            "Requirement already satisfied: pandas<3,>=1.4.0 in /usr/local/lib/python3.11/dist-packages (from streamlit) (2.2.2)\n",
            "Requirement already satisfied: pillow<12,>=7.1.0 in /usr/local/lib/python3.11/dist-packages (from streamlit) (11.1.0)\n",
            "Requirement already satisfied: protobuf<6,>=3.20 in /usr/local/lib/python3.11/dist-packages (from streamlit) (5.29.4)\n",
            "Requirement already satisfied: pyarrow>=7.0 in /usr/local/lib/python3.11/dist-packages (from streamlit) (18.1.0)\n",
            "Requirement already satisfied: requests<3,>=2.27 in /usr/local/lib/python3.11/dist-packages (from streamlit) (2.32.3)\n",
            "Requirement already satisfied: tenacity<10,>=8.1.0 in /usr/local/lib/python3.11/dist-packages (from streamlit) (9.1.2)\n",
            "Requirement already satisfied: toml<2,>=0.10.1 in /usr/local/lib/python3.11/dist-packages (from streamlit) (0.10.2)\n",
            "Requirement already satisfied: typing-extensions<5,>=4.4.0 in /usr/local/lib/python3.11/dist-packages (from streamlit) (4.13.1)\n",
            "Collecting watchdog<7,>=2.1.5 (from streamlit)\n",
            "  Downloading watchdog-6.0.0-py3-none-manylinux2014_x86_64.whl.metadata (44 kB)\n",
            "\u001b[2K     \u001b[90m━━━━━━━━━━━━━━━━━━━━━━━━━━━━━━━━━━━━━━━━\u001b[0m \u001b[32m44.3/44.3 kB\u001b[0m \u001b[31m3.6 MB/s\u001b[0m eta \u001b[36m0:00:00\u001b[0m\n",
            "\u001b[?25hRequirement already satisfied: gitpython!=3.1.19,<4,>=3.0.7 in /usr/local/lib/python3.11/dist-packages (from streamlit) (3.1.44)\n",
            "Collecting pydeck<1,>=0.8.0b4 (from streamlit)\n",
            "  Downloading pydeck-0.9.1-py2.py3-none-any.whl.metadata (4.1 kB)\n",
            "Requirement already satisfied: tornado<7,>=6.0.3 in /usr/local/lib/python3.11/dist-packages (from streamlit) (6.4.2)\n",
            "Requirement already satisfied: tzdata in /usr/local/lib/python3.11/dist-packages (from faker) (2025.2)\n",
            "Requirement already satisfied: jinja2 in /usr/local/lib/python3.11/dist-packages (from altair<6,>=4.0->streamlit) (3.1.6)\n",
            "Requirement already satisfied: jsonschema>=3.0 in /usr/local/lib/python3.11/dist-packages (from altair<6,>=4.0->streamlit) (4.23.0)\n",
            "Requirement already satisfied: narwhals>=1.14.2 in /usr/local/lib/python3.11/dist-packages (from altair<6,>=4.0->streamlit) (1.33.0)\n",
            "Requirement already satisfied: gitdb<5,>=4.0.1 in /usr/local/lib/python3.11/dist-packages (from gitpython!=3.1.19,<4,>=3.0.7->streamlit) (4.0.12)\n",
            "Requirement already satisfied: python-dateutil>=2.8.2 in /usr/local/lib/python3.11/dist-packages (from pandas<3,>=1.4.0->streamlit) (2.8.2)\n",
            "Requirement already satisfied: pytz>=2020.1 in /usr/local/lib/python3.11/dist-packages (from pandas<3,>=1.4.0->streamlit) (2025.2)\n",
            "Requirement already satisfied: charset-normalizer<4,>=2 in /usr/local/lib/python3.11/dist-packages (from requests<3,>=2.27->streamlit) (3.4.1)\n",
            "Requirement already satisfied: idna<4,>=2.5 in /usr/local/lib/python3.11/dist-packages (from requests<3,>=2.27->streamlit) (3.10)\n",
            "Requirement already satisfied: urllib3<3,>=1.21.1 in /usr/local/lib/python3.11/dist-packages (from requests<3,>=2.27->streamlit) (2.3.0)\n",
            "Requirement already satisfied: certifi>=2017.4.17 in /usr/local/lib/python3.11/dist-packages (from requests<3,>=2.27->streamlit) (2025.1.31)\n",
            "Requirement already satisfied: smmap<6,>=3.0.1 in /usr/local/lib/python3.11/dist-packages (from gitdb<5,>=4.0.1->gitpython!=3.1.19,<4,>=3.0.7->streamlit) (5.0.2)\n",
            "Requirement already satisfied: MarkupSafe>=2.0 in /usr/local/lib/python3.11/dist-packages (from jinja2->altair<6,>=4.0->streamlit) (3.0.2)\n",
            "Requirement already satisfied: attrs>=22.2.0 in /usr/local/lib/python3.11/dist-packages (from jsonschema>=3.0->altair<6,>=4.0->streamlit) (25.3.0)\n",
            "Requirement already satisfied: jsonschema-specifications>=2023.03.6 in /usr/local/lib/python3.11/dist-packages (from jsonschema>=3.0->altair<6,>=4.0->streamlit) (2024.10.1)\n",
            "Requirement already satisfied: referencing>=0.28.4 in /usr/local/lib/python3.11/dist-packages (from jsonschema>=3.0->altair<6,>=4.0->streamlit) (0.36.2)\n",
            "Requirement already satisfied: rpds-py>=0.7.1 in /usr/local/lib/python3.11/dist-packages (from jsonschema>=3.0->altair<6,>=4.0->streamlit) (0.24.0)\n",
            "Requirement already satisfied: six>=1.5 in /usr/local/lib/python3.11/dist-packages (from python-dateutil>=2.8.2->pandas<3,>=1.4.0->streamlit) (1.17.0)\n",
            "Downloading streamlit-1.44.1-py3-none-any.whl (9.8 MB)\n",
            "\u001b[2K   \u001b[90m━━━━━━━━━━━━━━━━━━━━━━━━━━━━━━━━━━━━━━━━\u001b[0m \u001b[32m9.8/9.8 MB\u001b[0m \u001b[31m102.9 MB/s\u001b[0m eta \u001b[36m0:00:00\u001b[0m\n",
            "\u001b[?25hDownloading faker-37.1.0-py3-none-any.whl (1.9 MB)\n",
            "\u001b[2K   \u001b[90m━━━━━━━━━━━━━━━━━━━━━━━━━━━━━━━━━━━━━━━━\u001b[0m \u001b[32m1.9/1.9 MB\u001b[0m \u001b[31m71.9 MB/s\u001b[0m eta \u001b[36m0:00:00\u001b[0m\n",
            "\u001b[?25hDownloading pydeck-0.9.1-py2.py3-none-any.whl (6.9 MB)\n",
            "\u001b[2K   \u001b[90m━━━━━━━━━━━━━━━━━━━━━━━━━━━━━━━━━━━━━━━━\u001b[0m \u001b[32m6.9/6.9 MB\u001b[0m \u001b[31m117.2 MB/s\u001b[0m eta \u001b[36m0:00:00\u001b[0m\n",
            "\u001b[?25hDownloading watchdog-6.0.0-py3-none-manylinux2014_x86_64.whl (79 kB)\n",
            "\u001b[2K   \u001b[90m━━━━━━━━━━━━━━━━━━━━━━━━━━━━━━━━━━━━━━━━\u001b[0m \u001b[32m79.1/79.1 kB\u001b[0m \u001b[31m7.9 MB/s\u001b[0m eta \u001b[36m0:00:00\u001b[0m\n",
            "\u001b[?25hInstalling collected packages: watchdog, faker, pydeck, streamlit\n",
            "Successfully installed faker-37.1.0 pydeck-0.9.1 streamlit-1.44.1 watchdog-6.0.0\n",
            "Requirement already satisfied: keras in /usr/local/lib/python3.11/dist-packages (3.8.0)\n",
            "Requirement already satisfied: absl-py in /usr/local/lib/python3.11/dist-packages (from keras) (1.4.0)\n",
            "Requirement already satisfied: numpy in /usr/local/lib/python3.11/dist-packages (from keras) (2.0.2)\n",
            "Requirement already satisfied: rich in /usr/local/lib/python3.11/dist-packages (from keras) (13.9.4)\n",
            "Requirement already satisfied: namex in /usr/local/lib/python3.11/dist-packages (from keras) (0.0.8)\n",
            "Requirement already satisfied: h5py in /usr/local/lib/python3.11/dist-packages (from keras) (3.13.0)\n",
            "Requirement already satisfied: optree in /usr/local/lib/python3.11/dist-packages (from keras) (0.14.1)\n",
            "Requirement already satisfied: ml-dtypes in /usr/local/lib/python3.11/dist-packages (from keras) (0.4.1)\n",
            "Requirement already satisfied: packaging in /usr/local/lib/python3.11/dist-packages (from keras) (24.2)\n",
            "Requirement already satisfied: typing-extensions>=4.5.0 in /usr/local/lib/python3.11/dist-packages (from optree->keras) (4.13.1)\n",
            "Requirement already satisfied: markdown-it-py>=2.2.0 in /usr/local/lib/python3.11/dist-packages (from rich->keras) (3.0.0)\n",
            "Requirement already satisfied: pygments<3.0.0,>=2.13.0 in /usr/local/lib/python3.11/dist-packages (from rich->keras) (2.18.0)\n",
            "Requirement already satisfied: mdurl~=0.1 in /usr/local/lib/python3.11/dist-packages (from markdown-it-py>=2.2.0->rich->keras) (0.1.2)\n"
          ]
        }
      ]
    },
    {
      "cell_type": "code",
      "source": [
        "from google.colab import drive\n",
        "drive.mount('/content/drive')"
      ],
      "metadata": {
        "colab": {
          "base_uri": "https://localhost:8080/"
        },
        "id": "m4vj9QD704lN",
        "outputId": "fc02537c-a60f-49aa-a1c7-00b0b7b6c5e7"
      },
      "execution_count": null,
      "outputs": [
        {
          "output_type": "stream",
          "name": "stdout",
          "text": [
            "Mounted at /content/drive\n"
          ]
        }
      ]
    },
    {
      "cell_type": "code",
      "execution_count": null,
      "metadata": {
        "colab": {
          "base_uri": "https://localhost:8080/"
        },
        "id": "EvZSyE8uzsD3",
        "outputId": "fcf85455-c5ee-480b-be89-a4ffa1d8a517"
      },
      "outputs": [
        {
          "output_type": "stream",
          "name": "stdout",
          "text": [
            "Overwriting app.py\n"
          ]
        }
      ],
      "source": [
        "%%writefile app.py\n",
        "import streamlit as st\n",
        "from PIL import Image\n",
        "import numpy as np\n",
        "import tensorflow as tf\n",
        "import struct\n",
        "from faker import Faker\n",
        "from keras.models import load_model\n",
        "\n",
        "# Load models\n",
        "generator = load_model('/content/drive/MyDrive/CIP/Saved_Models/new2/generator_model_updated_new.keras')\n",
        "discriminator = load_model('/content/drive/MyDrive/CIP/Saved_Models/new/discriminator_model_updated_new.keras')\n",
        "extractor = load_model('/content/drive/MyDrive/CIP/Saved_Models/new2/extractor_model_updated_new.keras')\n",
        "\n",
        "# Global constants\n",
        "MAX_BITS = 16384\n",
        "fake = Faker()\n",
        "\n",
        "# Session state setup\n",
        "if \"cover_image\" not in st.session_state:\n",
        "    st.session_state.cover_image = None\n",
        "if \"stego_image\" not in st.session_state:\n",
        "    st.session_state.stego_image = None\n",
        "if \"binary_message\" not in st.session_state:\n",
        "    st.session_state.binary_message = None\n",
        "\n",
        "# Functions\n",
        "def preprocess_image(img):\n",
        "    img = img.convert(\"L\").resize((256, 256))  # Grayscale and resize\n",
        "    img_array = np.array(img) / 255.0\n",
        "    img_array = np.expand_dims(img_array, axis=-1)\n",
        "    return img_array\n",
        "\n",
        "def generate_stego_image(cover_image, message):\n",
        "    cover_image = np.expand_dims(cover_image, axis=0)\n",
        "    message = message.reshape(1, -1)\n",
        "    stego_image = generator.predict([cover_image, message])\n",
        "    return np.squeeze(stego_image, axis=0)\n",
        "\n",
        "def test_stego_image(stego_image):\n",
        "    stego_image = np.expand_dims(stego_image / 255.0, axis=0)\n",
        "    prediction = discriminator.predict(stego_image)\n",
        "    label = \"Stego\" if prediction[0][0] > 0.5 else \"Real\"\n",
        "    confidence = prediction[0][0]\n",
        "    return label, confidence\n",
        "\n",
        "def extract_message(stego_image):\n",
        "    stego_image = np.expand_dims(stego_image / 255.0, axis=0)\n",
        "    extracted = extractor.predict(stego_image)\n",
        "    extracted = np.round(extracted).astype(np.uint8).squeeze()\n",
        "    return extracted\n",
        "\n",
        "def generate_patient_info():\n",
        "    patient_id = int(fake.random_number(digits=8))\n",
        "    age = fake.random_int(min=18, max=99)\n",
        "    gender = fake.random_element(elements=(\"M\", \"F\", \"O\")).encode()\n",
        "    blood_type = fake.random_element(elements=(\"A+\", \"A-\", \"B+\", \"B-\", \"O+\", \"O-\", \"AB+\", \"AB-\")).encode()\n",
        "    allergies = \",\".join(fake.words(3))[:30].encode()\n",
        "    chronic_conditions = \",\".join(fake.words(5))[:50].encode()\n",
        "    medications = \",\".join(fake.sentences(3))[:80].encode()\n",
        "    treatments = \",\".join(fake.sentences(3))[:80].encode()\n",
        "    visits = \",\".join([fake.date_this_decade().isoformat() for _ in range(3)])[:50].encode()\n",
        "    hemoglobin = round(fake.pyfloat(min_value=10.0, max_value=18.0, right_digits=1), 1)\n",
        "    cholesterol = round(fake.pyfloat(min_value=100.0, max_value=250.0, right_digits=1), 1)\n",
        "    systolic_bp = fake.random_int(90, 140)\n",
        "    diastolic_bp = fake.random_int(60, 90)\n",
        "    heart_rate = fake.random_int(60, 100)\n",
        "\n",
        "    binary_data = struct.pack(\n",
        "        \">I B c 2s 30s 50s 80s 80s 50s f f H H H\",\n",
        "        patient_id, age, gender, blood_type,\n",
        "        allergies, chronic_conditions, medications, treatments, visits,\n",
        "        hemoglobin, cholesterol, systolic_bp, diastolic_bp, heart_rate\n",
        "    )\n",
        "    # st.write(binary_data)\n",
        "    bit_array = np.unpackbits(np.frombuffer(binary_data, dtype=np.uint8))\n",
        "    return np.pad(bit_array, (0, max(0, MAX_BITS - len(bit_array))), 'constant')\n",
        "\n",
        "def decode_patient_info(binary_message):\n",
        "    byte_array = np.packbits(binary_message)\n",
        "    fmt = \">I B c 2s 30s 50s 80s 80s 50s f f H H H\"\n",
        "    buffer_size = struct.calcsize(fmt)\n",
        "    unpacked = struct.unpack(fmt, byte_array[:buffer_size])\n",
        "    return {\n",
        "        \"patient_id\": unpacked[0],\n",
        "        \"age\": unpacked[1],\n",
        "        \"gender\": unpacked[2].decode(),\n",
        "        \"blood_type\": unpacked[3].decode(),\n",
        "        \"allergies\": unpacked[4].decode().strip(),\n",
        "        \"chronic_conditions\": unpacked[5].decode().strip(),\n",
        "        \"current_medications\": unpacked[6].decode().strip(),\n",
        "        \"recent_treatments\": unpacked[7].decode().strip(),\n",
        "        \"hospital_visits\": unpacked[8].decode().strip(),\n",
        "        \"lab_results\": {\n",
        "            \"hemoglobin\": unpacked[9],\n",
        "            \"cholesterol\": unpacked[10],\n",
        "            \"blood_pressure\": f\"{unpacked[11]}/{unpacked[12]}\",\n",
        "            \"heart_rate\": unpacked[13]\n",
        "        }\n",
        "    }\n",
        "\n",
        "# Streamlit UI\n",
        "st.title(\"GAN-based Image Steganography Tool\")\n",
        "\n",
        "# Sidebar - Operation Tabs\n",
        "tab = st.sidebar.radio(\"Select Operation\", [\"Embed Message\", \"Discriminate Image\", \"Extract Message\"])\n",
        "\n",
        "# Embed Message\n",
        "if tab == \"Embed Message\":\n",
        "    st.title(\"Cover Image\")\n",
        "    uploaded_image = st.file_uploader(\"Upload an image\", type=[\"jpg\", \"jpeg\", \"png\"])\n",
        "    if uploaded_image:\n",
        "        st.session_state.cover_image = Image.open(uploaded_image)\n",
        "        st.image(st.session_state.cover_image, caption=\"Uploaded Image\", use_container_width=True)\n",
        "\n",
        "    if st.button(\"Generate Patient Info\"):\n",
        "        st.session_state.binary_message = generate_patient_info()\n",
        "        st.success(\"Patient Info Generated!\")\n",
        "\n",
        "    if st.session_state.binary_message is not None:\n",
        "        st.text_area(\"Binary Message\", value=st.session_state.binary_message.tolist(), height=150)\n",
        "\n",
        "    if st.button(\"Embed\"):\n",
        "        if st.session_state.cover_image is None:\n",
        "            st.warning(\"Upload a cover image first.\")\n",
        "        elif st.session_state.binary_message is None:\n",
        "            st.warning(\"Generate patient info first.\")\n",
        "        else:\n",
        "            image_array = preprocess_image(st.session_state.cover_image)\n",
        "            stego = generate_stego_image(image_array, st.session_state.binary_message)\n",
        "            st.session_state.stego_image = stego\n",
        "            st.image(stego, caption=\"Stego Image\", use_container_width=True)\n",
        "            st.download_button(\"Download Stego Image\", data=stego.tobytes(),\n",
        "                               file_name=\"stego_image.png\", mime=\"image/png\")\n",
        "            st.success(\"Stego image generated and stored!\")\n",
        "\n",
        "# Discriminate Image\n",
        "elif tab == \"Discriminate Image\":\n",
        "    if st.session_state.stego_image is not None:\n",
        "        st.image(st.session_state.stego_image, caption=\"Stego Image\", use_container_width=True)\n",
        "        if st.button(\"Run Discriminator\"):\n",
        "            label, confidence = test_stego_image(st.session_state.stego_image)\n",
        "            st.info(f\"Prediction: **{label}** with confidence {confidence:.4f}\")\n",
        "    else:\n",
        "        st.warning(\"No stego image available. Please embed a message first.\")\n",
        "\n",
        "# Extract Message\n",
        "elif tab == \"Extract Message\":\n",
        "    if st.session_state.stego_image is not None:\n",
        "        st.image(st.session_state.stego_image, caption=\"Stego Image\", use_container_width=True)\n",
        "        if st.button(\"Extract Message\"):\n",
        "\n",
        "            message = extract_message(st.session_state.stego_image)\n",
        "            decoded = decode_patient_info(message)\n",
        "            st.json(decoded)\n",
        "            st.success(\"Message extracted!\")\n",
        "    else:\n",
        "        st.warning(\"No stego image available. Please embed a message first.\")\n"
      ]
    },
    {
      "cell_type": "code",
      "source": [
        "!python -m streamlit run app.py"
      ],
      "metadata": {
        "colab": {
          "base_uri": "https://localhost:8080/"
        },
        "id": "JZNpK76u0Gts",
        "outputId": "d849e774-e47f-4385-aa95-d58dbed43ef4"
      },
      "execution_count": null,
      "outputs": [
        {
          "output_type": "stream",
          "name": "stdout",
          "text": [
            "\n",
            "Collecting usage statistics. To deactivate, set browser.gatherUsageStats to false.\n",
            "\u001b[0m\n",
            "\u001b[0m\n",
            "\u001b[34m\u001b[1m  You can now view your Streamlit app in your browser.\u001b[0m\n",
            "\u001b[0m\n",
            "\u001b[34m  Local URL: \u001b[0m\u001b[1mhttp://localhost:8501\u001b[0m\n",
            "\u001b[34m  Network URL: \u001b[0m\u001b[1mhttp://172.28.0.12:8501\u001b[0m\n",
            "\u001b[34m  External URL: \u001b[0m\u001b[1mhttp://35.240.246.188:8501\u001b[0m\n",
            "\u001b[0m\n",
            "\u001b[34m  Stopping...\u001b[0m\n",
            "\u001b[34m  Stopping...\u001b[0m\n"
          ]
        }
      ]
    },
    {
      "cell_type": "code",
      "source": [],
      "metadata": {
        "id": "aYiACJIK0LLt"
      },
      "execution_count": null,
      "outputs": []
    }
  ]
}