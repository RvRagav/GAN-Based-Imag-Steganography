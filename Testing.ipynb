{
  "nbformat": 4,
  "nbformat_minor": 0,
  "metadata": {
    "colab": {
      "provenance": [],
      "gpuType": "T4"
    },
    "kernelspec": {
      "name": "python3",
      "display_name": "Python 3"
    },
    "language_info": {
      "name": "python"
    },
    "accelerator": "GPU"
  },
  "cells": [
    {
      "cell_type": "code",
      "execution_count": null,
      "metadata": {
        "colab": {
          "base_uri": "https://localhost:8080/"
        },
        "id": "wLqwghdgx3x1",
        "outputId": "0c6e31ae-d0fe-48fe-8f31-a26e7abe7c70"
      },
      "outputs": [
        {
          "output_type": "stream",
          "name": "stdout",
          "text": [
            "Mounted at /content/drive\n"
          ]
        }
      ],
      "source": [
        "from google.colab import drive\n",
        "drive.mount('/content/drive')"
      ]
    },
    {
      "cell_type": "code",
      "source": [
        "import os\n",
        "import zipfile\n",
        "\n",
        "zip_path = \"/content/drive/MyDrive/CIP/Dataset/archive.zip\"\n",
        "\n",
        "with zipfile.ZipFile(zip_path, 'r') as zip_ref:\n",
        "    zip_ref.extractall(\"/content/dataset\")"
      ],
      "metadata": {
        "id": "TgSN9Tw706Mt"
      },
      "execution_count": null,
      "outputs": []
    },
    {
      "cell_type": "code",
      "source": [
        "import os\n",
        "import cv2\n",
        "import numpy as np\n",
        "import tensorflow as tf\n",
        "\n",
        "DATASET_PATH = \"/content/dataset/boss_256_0.4/cover\"\n",
        "IMAGE_SIZE = (256, 256)\n",
        "MIN_SIZE_BYTES = 7 * 1024\n",
        "def load_images(dataset_path, image_size, min_size_bytes):\n",
        "    images = []\n",
        "    valid_extensions = (\".png\", \".jpg\", \".jpeg\", \".bmp\", \".tiff\")\n",
        "    filenames = [\n",
        "        f for f in os.listdir(dataset_path)\n",
        "        if f.lower().endswith(valid_extensions) and os.path.getsize(os.path.join(dataset_path, f)) > min_size_bytes\n",
        "    ]\n",
        "\n",
        "    for filename in filenames:\n",
        "        img_path = os.path.join(dataset_path, filename)\n",
        "\n",
        "        img = cv2.imread(img_path, cv2.IMREAD_GRAYSCALE)\n",
        "\n",
        "        if img is None:\n",
        "            print(f\"Warning: Could not read {img_path}\")\n",
        "            continue\n",
        "\n",
        "        img = cv2.resize(img, image_size)\n",
        "        img = img.astype(np.float32) / 255.0\n",
        "        img = np.expand_dims(img, axis=-1)\n",
        "        images.append(img)\n",
        "\n",
        "    return np.stack(images, axis=0) if images else np.array([])\n",
        "\n",
        "cover_images = load_images(DATASET_PATH, IMAGE_SIZE, MIN_SIZE_BYTES)\n",
        "\n",
        "print(\"Cover Images Shape:\", cover_images.shape)\n",
        "print(\"Min Pixel Value:\", np.min(cover_images), \"Max Pixel Value:\", np.max(cover_images))\n",
        "print(f\"Total Images Loaded: {cover_images.shape[0]}\")\n"
      ],
      "metadata": {
        "id": "mYO9czBb3Ddr",
        "colab": {
          "base_uri": "https://localhost:8080/"
        },
        "outputId": "f2ce5aee-e449-491f-a4c9-ec7b8603d6e9"
      },
      "execution_count": null,
      "outputs": [
        {
          "output_type": "stream",
          "name": "stdout",
          "text": [
            "Cover Images Shape: (6357, 256, 256, 1)\n",
            "Min Pixel Value: 0.0 Max Pixel Value: 1.0\n",
            "Total Images Loaded: 6357\n"
          ]
        }
      ]
    },
    {
      "cell_type": "code",
      "source": [
        "cover_images1=cover_images[:2500]\n",
        "print(f\"Cover Images Shape:{cover_images1.shape}\")"
      ],
      "metadata": {
        "colab": {
          "base_uri": "https://localhost:8080/"
        },
        "id": "2ofbxZJXaObk",
        "outputId": "8f76bf37-2949-40ef-c811-39f8a7257a20"
      },
      "execution_count": null,
      "outputs": [
        {
          "output_type": "stream",
          "name": "stdout",
          "text": [
            "Cover Images Shape:(2500, 256, 256, 1)\n"
          ]
        }
      ]
    },
    {
      "cell_type": "code",
      "source": [
        "\n",
        "!pip install Faker\n"
      ],
      "metadata": {
        "id": "B9juy73f4YGw",
        "colab": {
          "base_uri": "https://localhost:8080/"
        },
        "outputId": "c37eb4bd-cd7d-4865-9930-e2cd8321829a"
      },
      "execution_count": null,
      "outputs": [
        {
          "output_type": "stream",
          "name": "stdout",
          "text": [
            "Collecting Faker\n",
            "  Downloading faker-37.1.0-py3-none-any.whl.metadata (15 kB)\n",
            "Requirement already satisfied: tzdata in /usr/local/lib/python3.11/dist-packages (from Faker) (2025.2)\n",
            "Downloading faker-37.1.0-py3-none-any.whl (1.9 MB)\n",
            "\u001b[?25l   \u001b[90m━━━━━━━━━━━━━━━━━━━━━━━━━━━━━━━━━━━━━━━━\u001b[0m \u001b[32m0.0/1.9 MB\u001b[0m \u001b[31m?\u001b[0m eta \u001b[36m-:--:--\u001b[0m\r\u001b[2K   \u001b[91m━━━━━━━━━\u001b[0m\u001b[90m╺\u001b[0m\u001b[90m━━━━━━━━━━━━━━━━━━━━━━━━━━━━━━\u001b[0m \u001b[32m0.5/1.9 MB\u001b[0m \u001b[31m13.3 MB/s\u001b[0m eta \u001b[36m0:00:01\u001b[0m\r\u001b[2K   \u001b[90m━━━━━━━━━━━━━━━━━━━━━━━━━━━━━━━━━━━━━━━━\u001b[0m \u001b[32m1.9/1.9 MB\u001b[0m \u001b[31m28.2 MB/s\u001b[0m eta \u001b[36m0:00:00\u001b[0m\n",
            "\u001b[?25hInstalling collected packages: Faker\n",
            "Successfully installed Faker-37.1.0\n"
          ]
        }
      ]
    },
    {
      "cell_type": "code",
      "source": [
        "!pip install streamlit"
      ],
      "metadata": {
        "colab": {
          "base_uri": "https://localhost:8080/"
        },
        "id": "WUAu5Vg8hZkq",
        "outputId": "cbaa97a5-b49c-4fe2-e860-236f3996c63e"
      },
      "execution_count": null,
      "outputs": [
        {
          "output_type": "stream",
          "name": "stdout",
          "text": [
            "Collecting streamlit\n",
            "  Downloading streamlit-1.44.1-py3-none-any.whl.metadata (8.9 kB)\n",
            "Requirement already satisfied: altair<6,>=4.0 in /usr/local/lib/python3.11/dist-packages (from streamlit) (5.5.0)\n",
            "Requirement already satisfied: blinker<2,>=1.0.0 in /usr/local/lib/python3.11/dist-packages (from streamlit) (1.9.0)\n",
            "Requirement already satisfied: cachetools<6,>=4.0 in /usr/local/lib/python3.11/dist-packages (from streamlit) (5.5.2)\n",
            "Requirement already satisfied: click<9,>=7.0 in /usr/local/lib/python3.11/dist-packages (from streamlit) (8.1.8)\n",
            "Requirement already satisfied: numpy<3,>=1.23 in /usr/local/lib/python3.11/dist-packages (from streamlit) (2.0.2)\n",
            "Requirement already satisfied: packaging<25,>=20 in /usr/local/lib/python3.11/dist-packages (from streamlit) (24.2)\n",
            "Requirement already satisfied: pandas<3,>=1.4.0 in /usr/local/lib/python3.11/dist-packages (from streamlit) (2.2.2)\n",
            "Requirement already satisfied: pillow<12,>=7.1.0 in /usr/local/lib/python3.11/dist-packages (from streamlit) (11.1.0)\n",
            "Requirement already satisfied: protobuf<6,>=3.20 in /usr/local/lib/python3.11/dist-packages (from streamlit) (5.29.4)\n",
            "Requirement already satisfied: pyarrow>=7.0 in /usr/local/lib/python3.11/dist-packages (from streamlit) (18.1.0)\n",
            "Requirement already satisfied: requests<3,>=2.27 in /usr/local/lib/python3.11/dist-packages (from streamlit) (2.32.3)\n",
            "Requirement already satisfied: tenacity<10,>=8.1.0 in /usr/local/lib/python3.11/dist-packages (from streamlit) (9.1.2)\n",
            "Requirement already satisfied: toml<2,>=0.10.1 in /usr/local/lib/python3.11/dist-packages (from streamlit) (0.10.2)\n",
            "Requirement already satisfied: typing-extensions<5,>=4.4.0 in /usr/local/lib/python3.11/dist-packages (from streamlit) (4.13.1)\n",
            "Collecting watchdog<7,>=2.1.5 (from streamlit)\n",
            "  Downloading watchdog-6.0.0-py3-none-manylinux2014_x86_64.whl.metadata (44 kB)\n",
            "\u001b[2K     \u001b[90m━━━━━━━━━━━━━━━━━━━━━━━━━━━━━━━━━━━━━━━━\u001b[0m \u001b[32m44.3/44.3 kB\u001b[0m \u001b[31m3.3 MB/s\u001b[0m eta \u001b[36m0:00:00\u001b[0m\n",
            "\u001b[?25hRequirement already satisfied: gitpython!=3.1.19,<4,>=3.0.7 in /usr/local/lib/python3.11/dist-packages (from streamlit) (3.1.44)\n",
            "Collecting pydeck<1,>=0.8.0b4 (from streamlit)\n",
            "  Downloading pydeck-0.9.1-py2.py3-none-any.whl.metadata (4.1 kB)\n",
            "Requirement already satisfied: tornado<7,>=6.0.3 in /usr/local/lib/python3.11/dist-packages (from streamlit) (6.4.2)\n",
            "Requirement already satisfied: jinja2 in /usr/local/lib/python3.11/dist-packages (from altair<6,>=4.0->streamlit) (3.1.6)\n",
            "Requirement already satisfied: jsonschema>=3.0 in /usr/local/lib/python3.11/dist-packages (from altair<6,>=4.0->streamlit) (4.23.0)\n",
            "Requirement already satisfied: narwhals>=1.14.2 in /usr/local/lib/python3.11/dist-packages (from altair<6,>=4.0->streamlit) (1.33.0)\n",
            "Requirement already satisfied: gitdb<5,>=4.0.1 in /usr/local/lib/python3.11/dist-packages (from gitpython!=3.1.19,<4,>=3.0.7->streamlit) (4.0.12)\n",
            "Requirement already satisfied: python-dateutil>=2.8.2 in /usr/local/lib/python3.11/dist-packages (from pandas<3,>=1.4.0->streamlit) (2.8.2)\n",
            "Requirement already satisfied: pytz>=2020.1 in /usr/local/lib/python3.11/dist-packages (from pandas<3,>=1.4.0->streamlit) (2025.2)\n",
            "Requirement already satisfied: tzdata>=2022.7 in /usr/local/lib/python3.11/dist-packages (from pandas<3,>=1.4.0->streamlit) (2025.2)\n",
            "Requirement already satisfied: charset-normalizer<4,>=2 in /usr/local/lib/python3.11/dist-packages (from requests<3,>=2.27->streamlit) (3.4.1)\n",
            "Requirement already satisfied: idna<4,>=2.5 in /usr/local/lib/python3.11/dist-packages (from requests<3,>=2.27->streamlit) (3.10)\n",
            "Requirement already satisfied: urllib3<3,>=1.21.1 in /usr/local/lib/python3.11/dist-packages (from requests<3,>=2.27->streamlit) (2.3.0)\n",
            "Requirement already satisfied: certifi>=2017.4.17 in /usr/local/lib/python3.11/dist-packages (from requests<3,>=2.27->streamlit) (2025.1.31)\n",
            "Requirement already satisfied: smmap<6,>=3.0.1 in /usr/local/lib/python3.11/dist-packages (from gitdb<5,>=4.0.1->gitpython!=3.1.19,<4,>=3.0.7->streamlit) (5.0.2)\n",
            "Requirement already satisfied: MarkupSafe>=2.0 in /usr/local/lib/python3.11/dist-packages (from jinja2->altair<6,>=4.0->streamlit) (3.0.2)\n",
            "Requirement already satisfied: attrs>=22.2.0 in /usr/local/lib/python3.11/dist-packages (from jsonschema>=3.0->altair<6,>=4.0->streamlit) (25.3.0)\n",
            "Requirement already satisfied: jsonschema-specifications>=2023.03.6 in /usr/local/lib/python3.11/dist-packages (from jsonschema>=3.0->altair<6,>=4.0->streamlit) (2024.10.1)\n",
            "Requirement already satisfied: referencing>=0.28.4 in /usr/local/lib/python3.11/dist-packages (from jsonschema>=3.0->altair<6,>=4.0->streamlit) (0.36.2)\n",
            "Requirement already satisfied: rpds-py>=0.7.1 in /usr/local/lib/python3.11/dist-packages (from jsonschema>=3.0->altair<6,>=4.0->streamlit) (0.24.0)\n",
            "Requirement already satisfied: six>=1.5 in /usr/local/lib/python3.11/dist-packages (from python-dateutil>=2.8.2->pandas<3,>=1.4.0->streamlit) (1.17.0)\n",
            "Downloading streamlit-1.44.1-py3-none-any.whl (9.8 MB)\n",
            "\u001b[2K   \u001b[90m━━━━━━━━━━━━━━━━━━━━━━━━━━━━━━━━━━━━━━━━\u001b[0m \u001b[32m9.8/9.8 MB\u001b[0m \u001b[31m59.5 MB/s\u001b[0m eta \u001b[36m0:00:00\u001b[0m\n",
            "\u001b[?25hDownloading pydeck-0.9.1-py2.py3-none-any.whl (6.9 MB)\n",
            "\u001b[2K   \u001b[90m━━━━━━━━━━━━━━━━━━━━━━━━━━━━━━━━━━━━━━━━\u001b[0m \u001b[32m6.9/6.9 MB\u001b[0m \u001b[31m57.5 MB/s\u001b[0m eta \u001b[36m0:00:00\u001b[0m\n",
            "\u001b[?25hDownloading watchdog-6.0.0-py3-none-manylinux2014_x86_64.whl (79 kB)\n",
            "\u001b[2K   \u001b[90m━━━━━━━━━━━━━━━━━━━━━━━━━━━━━━━━━━━━━━━━\u001b[0m \u001b[32m79.1/79.1 kB\u001b[0m \u001b[31m7.7 MB/s\u001b[0m eta \u001b[36m0:00:00\u001b[0m\n",
            "\u001b[?25hInstalling collected packages: watchdog, pydeck, streamlit\n",
            "Successfully installed pydeck-0.9.1 streamlit-1.44.1 watchdog-6.0.0\n"
          ]
        }
      ]
    },
    {
      "cell_type": "code",
      "source": [
        "import numpy as np\n",
        "import struct\n",
        "from faker import Faker\n",
        "\n",
        "fake = Faker()\n",
        "MAX_BITS = 16384  # Ensuring each message fits within this\n",
        "\n",
        "def generate_patient_info():\n",
        "    \"\"\"Generate and pack structured patient data into binary format.\"\"\"\n",
        "    patient_id = int(fake.random_number(digits=8))  # UUID as integer\n",
        "    age = fake.random_int(min=18, max=99)\n",
        "    gender = fake.random_element(elements=(\"M\", \"F\", \"O\")).encode()  # Single character\n",
        "    blood_type = fake.random_element(elements=(\"A+\", \"A-\", \"B+\", \"B-\", \"O+\", \"O-\", \"AB+\", \"AB-\")).encode()\n",
        "\n",
        "    # Convert lists to fixed-size strings (comma-separated and truncated)\n",
        "    allergies = \",\".join(fake.words(3))[:30].encode()\n",
        "    chronic_conditions = \",\".join(fake.words(5))[:50].encode()\n",
        "    medications = \",\".join(fake.sentences(3))[:80].encode()\n",
        "    treatments = \",\".join(fake.sentences(3))[:80].encode()\n",
        "    visits = \",\".join([fake.date_this_decade().isoformat() for _ in range(3)])[:50].encode()\n",
        "\n",
        "    # Lab results (fixed-size)\n",
        "    hemoglobin = round(fake.pyfloat(min_value=10.0, max_value=18.0, right_digits=1), 1)\n",
        "    cholesterol = round(fake.pyfloat(min_value=100.0, max_value=250.0, right_digits=1), 1)\n",
        "    systolic_bp = fake.random_int(90, 140)\n",
        "    diastolic_bp = fake.random_int(60, 90)\n",
        "    heart_rate = fake.random_int(60, 100)\n",
        "\n",
        "    # Pack all fields into binary format (Big-endian for consistency)\n",
        "    binary_data = struct.pack(\n",
        "        \">I B c 2s 30s 50s 80s 80s 50s f f H H H\",\n",
        "        patient_id, age, gender, blood_type,\n",
        "        allergies, chronic_conditions, medications, treatments, visits,\n",
        "        hemoglobin, cholesterol, systolic_bp, diastolic_bp, heart_rate\n",
        "    )\n",
        "\n",
        "    # Convert binary data to a bit array\n",
        "    bit_array = np.unpackbits(np.frombuffer(binary_data, dtype=np.uint8))\n",
        "\n",
        "    # Pad or truncate to MAX_BITS\n",
        "    return np.pad(bit_array, (0, max(0, MAX_BITS - len(bit_array))), 'constant')\n",
        "\n",
        "# Example usage\n",
        "num_images = len(cover_images1)  # Adjust based on your dataset\n",
        "binary_messages = [generate_patient_info() for _ in range(num_images)]\n",
        "\n",
        "# Convert to fixed-shape NumPy array\n",
        "binary_messages = np.array(binary_messages, dtype=np.uint8)\n",
        "\n",
        "print(f\"✅ Created {len(binary_messages)} messages, each {len(binary_messages[0])} bits long.\")\n",
        "print(binary_messages.shape)\n"
      ],
      "metadata": {
        "id": "aqsLyeWZ4aZn",
        "colab": {
          "base_uri": "https://localhost:8080/"
        },
        "outputId": "cea97c30-7570-4edd-928a-5cfda267488f"
      },
      "execution_count": null,
      "outputs": [
        {
          "output_type": "stream",
          "name": "stdout",
          "text": [
            "✅ Created 2500 messages, each 16384 bits long.\n",
            "(2500, 16384)\n"
          ]
        }
      ]
    },
    {
      "cell_type": "code",
      "source": [],
      "metadata": {
        "id": "4GDig5x7qTvt"
      },
      "execution_count": null,
      "outputs": []
    },
    {
      "cell_type": "code",
      "source": [
        "def create_dataset(images, messages, batch_size):\n",
        "    messages = messages.astype(np.float32)\n",
        "    dataset = tf.data.Dataset.from_tensor_slices((images, messages))\n",
        "    dataset = dataset.shuffle(len(images)).batch(batch_size, drop_remainder=True).prefetch(tf.data.AUTOTUNE)\n",
        "    return dataset\n",
        "\n",
        "BATCH_SIZE = 32\n",
        "\n",
        "dataset = create_dataset(cover_images1, binary_messages, BATCH_SIZE)\n",
        "\n",
        "for batch_cover, batch_message in dataset.take(1):\n",
        "    print(\"Cover Image Batch Shape:\", batch_cover.shape)\n",
        "    print(\"Message Batch Shape:\", batch_message.shape)\n"
      ],
      "metadata": {
        "id": "QhXkeNtV4R_0",
        "colab": {
          "base_uri": "https://localhost:8080/"
        },
        "outputId": "ee3e6da9-a7e7-48fb-86b9-3069012908e7"
      },
      "execution_count": null,
      "outputs": [
        {
          "output_type": "stream",
          "name": "stdout",
          "text": [
            "Cover Image Batch Shape: (32, 256, 256, 1)\n",
            "Message Batch Shape: (32, 16384)\n"
          ]
        }
      ]
    },
    {
      "cell_type": "code",
      "source": [
        "import tensorflow as tf\n",
        "\n",
        "def generator_mse_loss_fn(cover_image, stego_image):\n",
        "    mse = tf.keras.losses.MeanSquaredError()\n",
        "    return mse(cover_image, stego_image)\n",
        "\n",
        "def generator_bce_loss_fn(fake_output):\n",
        "    bce = tf.keras.losses.BinaryCrossentropy(from_logits=False)\n",
        "    return bce(tf.ones_like(fake_output), fake_output)\n",
        "\n",
        "def ber_loss_fn(original_message, extracted_message):\n",
        "    original_message = tf.cast(original_message, tf.float32)\n",
        "    return tf.reduce_mean(tf.abs(original_message - extracted_message))\n",
        "\n",
        "def generator_combined_loss_fn(cover_image, stego_image, fake_output, original_message, extracted_message,\n",
        "                               mse_weight=1.0, bce_weight=0.2, ber_weight=0.5):\n",
        "    mse_loss = generator_mse_loss_fn(cover_image, stego_image)\n",
        "    bce_loss = generator_bce_loss_fn(fake_output)\n",
        "    ber_loss = ber_loss_fn(original_message, extracted_message)\n",
        "\n",
        "    return (mse_weight * mse_loss) + (bce_weight * bce_loss) + (ber_weight * ber_loss)\n",
        "\n",
        "def discriminator_loss_fn(real_output, fake_output):\n",
        "\n",
        "    bce = tf.keras.losses.BinaryCrossentropy(from_logits=False)\n",
        "    real_loss = bce(tf.ones_like(real_output), real_output)\n",
        "    fake_loss = bce(tf.zeros_like(fake_output), fake_output)\n",
        "\n",
        "    return real_loss + fake_loss\n",
        "\n",
        "def extractor_loss_fn(original_message, extracted_message):\n",
        "    bce = tf.keras.losses.BinaryCrossentropy(from_logits=False)\n",
        "    return bce(original_message, extracted_message)\n"
      ],
      "metadata": {
        "id": "md57NQSP5oBN"
      },
      "execution_count": null,
      "outputs": []
    },
    {
      "cell_type": "code",
      "source": [
        "strategy = tf.distribute.get_strategy()"
      ],
      "metadata": {
        "id": "fLPDvvNW6HxM"
      },
      "execution_count": null,
      "outputs": []
    },
    {
      "cell_type": "code",
      "source": [
        "\n",
        "from tensorflow.keras.models import load_model\n",
        "with strategy.scope():\n",
        "    generator = load_model(\"/content/drive/MyDrive/CIP/Saved_Models/new/generator_model_updated_new.keras\")\n",
        "    discriminator = load_model(\"/content/drive/MyDrive/CIP/Saved_Models/new/discriminator_model_updated_new.keras\")\n",
        "    extractor = load_model(\"/content/drive/MyDrive/CIP/Saved_Models/new2/extractor_model_updated_new.keras\")"
      ],
      "metadata": {
        "id": "5LZay5Va6RV1",
        "colab": {
          "base_uri": "https://localhost:8080/"
        },
        "outputId": "1d8bb277-4b7c-496e-d65a-3effb66cd916"
      },
      "execution_count": null,
      "outputs": [
        {
          "output_type": "stream",
          "name": "stderr",
          "text": [
            "/usr/local/lib/python3.11/dist-packages/keras/src/saving/saving_lib.py:757: UserWarning: Skipping variable loading for optimizer 'rmsprop', because it has 34 variables whereas the saved optimizer has 66 variables. \n",
            "  saveable.load_own_variables(weights_store.get(inner_path))\n",
            "/usr/local/lib/python3.11/dist-packages/keras/src/saving/saving_lib.py:757: UserWarning: Skipping variable loading for optimizer 'rmsprop', because it has 32 variables whereas the saved optimizer has 62 variables. \n",
            "  saveable.load_own_variables(weights_store.get(inner_path))\n"
          ]
        }
      ]
    },
    {
      "cell_type": "code",
      "source": [
        "import tensorflow as tf\n",
        "import numpy as np\n",
        "\n",
        "total_gen_loss, total_disc_acc, total_msg_acc, total_ber_loss = 0, 0, 0, 0\n",
        "num_batches = 0\n",
        "\n",
        "# Use the same dataset as corrected code\n",
        "dataset = tf.data.Dataset.from_tensor_slices((cover_images1, binary_messages)).batch(32)\n",
        "\n",
        "for batch_cover, batch_message in dataset:\n",
        "    stego_images = generator([batch_cover, batch_message])\n",
        "    real_output = discriminator(batch_cover)\n",
        "    fake_output = discriminator(stego_images)\n",
        "    extracted_messages = extractor(stego_images)\n",
        "\n",
        "    gen_loss = tf.keras.losses.MeanSquaredError()(batch_cover, stego_images).numpy()\n",
        "    real_acc = np.mean((real_output.numpy() > 0.5).astype(int) == 1)\n",
        "    fake_acc = np.mean((fake_output.numpy() < 0.5).astype(int) == 1)\n",
        "    disc_acc = (real_acc + fake_acc) / 2\n",
        "    msg_acc = np.mean((tf.round(batch_message).numpy().astype(np.uint8) == tf.round(extracted_messages).numpy().astype(np.uint8)).astype(np.float32))\n",
        "    ber_loss = ber_loss_fn(batch_message, extracted_messages).numpy()\n",
        "\n",
        "    total_gen_loss += gen_loss\n",
        "    total_disc_acc += disc_acc\n",
        "    total_msg_acc += msg_acc\n",
        "    total_ber_loss += ber_loss\n",
        "    num_batches += 1\n",
        "\n",
        "avg_gen_loss = total_gen_loss / num_batches\n",
        "avg_disc_acc = total_disc_acc / num_batches\n",
        "avg_msg_acc = total_msg_acc / num_batches\n",
        "avg_ber_loss = total_ber_loss / num_batches\n",
        "\n",
        "print(\"\\n Model Evaluation Results\")\n",
        "print(f\"Generator Loss: {avg_gen_loss:.6f}\")\n",
        "print(f\"Discriminator Accuracy: {avg_disc_acc:.4f}\")\n",
        "print(f\"Message Retrieval Accuracy: {avg_msg_acc:.4f}\")\n",
        "print(f\"BER Loss: {avg_ber_loss:.6f}\")"
      ],
      "metadata": {
        "colab": {
          "base_uri": "https://localhost:8080/"
        },
        "id": "vqMceJu7tP7o",
        "outputId": "14937b24-6efe-4756-8f75-1fea81ba3daf"
      },
      "execution_count": null,
      "outputs": [
        {
          "output_type": "stream",
          "name": "stdout",
          "text": [
            "\n",
            " Model Evaluation Results\n",
            "Generator Loss: 0.002678\n",
            "Discriminator Accuracy: 0.4949\n",
            "Message Retrieval Accuracy: 0.9681\n",
            "BER Loss: 0.040039\n"
          ]
        }
      ]
    },
    {
      "cell_type": "code",
      "source": [
        "import tensorflow as tf\n",
        "import numpy as np\n",
        "\n",
        "def evaluate_model(generator, discriminator, extractor, dataset, generator_combined_loss_fn, ber_loss_fn,\n",
        "                   mse_weight=1.0, bce_weight=0.2, ber_weight=0.5, batch_size=32):\n",
        "    total_gen_loss, total_disc_acc, total_msg_acc, total_ber_loss = 0.0, 0.0, 0.0, 0.0\n",
        "    num_batches = 0\n",
        "    dataset = dataset.batch(batch_size, drop_remainder=True)\n",
        "\n",
        "    for batch_idx, (batch_cover, batch_message) in enumerate(dataset):\n",
        "        batch_cover = tf.cast(batch_cover, tf.float32)\n",
        "        batch_message = tf.cast(batch_message, tf.float32)\n",
        "\n",
        "        stego_images = generator([batch_cover, batch_message], training=False)\n",
        "        real_output = discriminator(batch_cover, training=False)\n",
        "        fake_output = discriminator(stego_images, training=False)\n",
        "        extracted_messages = extractor(stego_images, training=False)\n",
        "\n",
        "        gen_loss = generator_combined_loss_fn(\n",
        "            cover_image=batch_cover, stego_image=stego_images, fake_output=fake_output,\n",
        "            original_message=batch_message, extracted_message=extracted_messages,\n",
        "            mse_weight=mse_weight, bce_weight=bce_weight, ber_weight=ber_weight\n",
        "        )\n",
        "        real_acc = tf.reduce_mean(tf.cast(real_output > 0.5, tf.float32))\n",
        "        fake_acc = tf.reduce_mean(tf.cast(fake_output < 0.5, tf.float32))\n",
        "        disc_acc = (real_acc + fake_acc) / 2\n",
        "        msg_acc = tf.reduce_mean(tf.cast(tf.equal(tf.round(batch_message), tf.round(extracted_messages)), tf.float32))\n",
        "        ber_loss = ber_loss_fn(batch_message, extracted_messages)\n",
        "\n",
        "        total_gen_loss += gen_loss.numpy()\n",
        "        total_disc_acc += disc_acc.numpy()\n",
        "        total_msg_acc += msg_acc.numpy()\n",
        "        total_ber_loss += ber_loss.numpy()\n",
        "        num_batches += 1\n",
        "        print(f\"Batch {batch_idx+1}: Disc Acc: {disc_acc.numpy():.4f}, Msg Acc: {msg_acc.numpy():.4f}, BER: {ber_loss.numpy():.6f}\")\n",
        "        # print(f\"Batch {batch_idx + 1}: Msg Acc: {msg_acc.numpy():.4f}, BER: {ber_loss.numpy():.6f}\")\n",
        "\n",
        "    avg_gen_loss = total_gen_loss / num_batches\n",
        "    avg_disc_acc = total_disc_acc / num_batches\n",
        "    avg_msg_acc = total_msg_acc / num_batches\n",
        "    avg_ber_loss = total_ber_loss / num_batches\n",
        "\n",
        "    print(\"\\nCorrected Model Evaluation Results:\")\n",
        "    print(f\"Generator Loss: {avg_gen_loss:.6f}\")\n",
        "    print(f\"Discriminator Accuracy: {avg_disc_acc:.4f}\")\n",
        "    print(f\"Message Retrieval Accuracy: {avg_msg_acc:.4f}\")\n",
        "    print(f\"BER Loss: {avg_ber_loss:.6f}\")\n",
        "\n",
        "    return avg_gen_loss, avg_disc_acc, avg_msg_acc, avg_ber_loss\n",
        "\n",
        "# Run evaluation\n",
        "dataset = tf.data.Dataset.from_tensor_slices((cover_images1, binary_messages)).shuffle(buffer_size=len(cover_images1))\n",
        "avg_gen_loss, avg_disc_acc, avg_msg_acc, avg_ber_loss = evaluate_model(\n",
        "    generator=generator,\n",
        "    discriminator=discriminator,\n",
        "    extractor=extractor,\n",
        "    dataset=dataset,\n",
        "    generator_combined_loss_fn=generator_combined_loss_fn,\n",
        "    ber_loss_fn=ber_loss_fn,\n",
        "    mse_weight=1.0,\n",
        "    bce_weight=0.2,\n",
        "    ber_weight=0.5,\n",
        "    batch_size=32\n",
        ")\n",
        "\n",
        "# Test index 500\n"
      ],
      "metadata": {
        "colab": {
          "base_uri": "https://localhost:8080/"
        },
        "id": "KCXCBY44uBo6",
        "outputId": "f339afc5-0380-49e5-aac2-023327ffe8db"
      },
      "execution_count": null,
      "outputs": [
        {
          "output_type": "stream",
          "name": "stdout",
          "text": [
            "Batch 1: Disc Acc: 0.4062, Msg Acc: 0.9681, BER: 0.039956\n",
            "Batch 2: Disc Acc: 0.4219, Msg Acc: 0.9678, BER: 0.040189\n",
            "Batch 3: Disc Acc: 0.4062, Msg Acc: 0.9679, BER: 0.040163\n",
            "Batch 4: Disc Acc: 0.4062, Msg Acc: 0.9682, BER: 0.039968\n",
            "Batch 5: Disc Acc: 0.4375, Msg Acc: 0.9682, BER: 0.039894\n",
            "Batch 6: Disc Acc: 0.4531, Msg Acc: 0.9681, BER: 0.039937\n",
            "Batch 7: Disc Acc: 0.3750, Msg Acc: 0.9675, BER: 0.040368\n",
            "Batch 8: Disc Acc: 0.3906, Msg Acc: 0.9684, BER: 0.039739\n",
            "Batch 9: Disc Acc: 0.3750, Msg Acc: 0.9683, BER: 0.039792\n",
            "Batch 10: Disc Acc: 0.3281, Msg Acc: 0.9683, BER: 0.039952\n",
            "Batch 11: Disc Acc: 0.3906, Msg Acc: 0.9678, BER: 0.040036\n",
            "Batch 12: Disc Acc: 0.3750, Msg Acc: 0.9680, BER: 0.040112\n",
            "Batch 13: Disc Acc: 0.3750, Msg Acc: 0.9677, BER: 0.040215\n",
            "Batch 14: Disc Acc: 0.4219, Msg Acc: 0.9682, BER: 0.040001\n",
            "Batch 15: Disc Acc: 0.4375, Msg Acc: 0.9681, BER: 0.039985\n",
            "Batch 16: Disc Acc: 0.4219, Msg Acc: 0.9682, BER: 0.039927\n",
            "Batch 17: Disc Acc: 0.4375, Msg Acc: 0.9680, BER: 0.040123\n",
            "Batch 18: Disc Acc: 0.4375, Msg Acc: 0.9680, BER: 0.040113\n",
            "Batch 19: Disc Acc: 0.4688, Msg Acc: 0.9683, BER: 0.039851\n",
            "Batch 20: Disc Acc: 0.4062, Msg Acc: 0.9680, BER: 0.040102\n",
            "Batch 21: Disc Acc: 0.4375, Msg Acc: 0.9684, BER: 0.039782\n",
            "Batch 22: Disc Acc: 0.4375, Msg Acc: 0.9678, BER: 0.040255\n",
            "Batch 23: Disc Acc: 0.4844, Msg Acc: 0.9680, BER: 0.040081\n",
            "Batch 24: Disc Acc: 0.3906, Msg Acc: 0.9680, BER: 0.040082\n",
            "Batch 25: Disc Acc: 0.4219, Msg Acc: 0.9679, BER: 0.039922\n",
            "Batch 26: Disc Acc: 0.4219, Msg Acc: 0.9682, BER: 0.039914\n",
            "Batch 27: Disc Acc: 0.4688, Msg Acc: 0.9677, BER: 0.040175\n",
            "Batch 28: Disc Acc: 0.3906, Msg Acc: 0.9681, BER: 0.039943\n",
            "Batch 29: Disc Acc: 0.3906, Msg Acc: 0.9684, BER: 0.039820\n",
            "Batch 30: Disc Acc: 0.3438, Msg Acc: 0.9684, BER: 0.039821\n",
            "Batch 31: Disc Acc: 0.4375, Msg Acc: 0.9682, BER: 0.039861\n",
            "Batch 32: Disc Acc: 0.4844, Msg Acc: 0.9681, BER: 0.040013\n",
            "Batch 33: Disc Acc: 0.4062, Msg Acc: 0.9682, BER: 0.039893\n",
            "Batch 34: Disc Acc: 0.4375, Msg Acc: 0.9683, BER: 0.039984\n",
            "Batch 35: Disc Acc: 0.3750, Msg Acc: 0.9683, BER: 0.039849\n",
            "Batch 36: Disc Acc: 0.3594, Msg Acc: 0.9684, BER: 0.039867\n",
            "Batch 37: Disc Acc: 0.4062, Msg Acc: 0.9679, BER: 0.040120\n",
            "Batch 38: Disc Acc: 0.4062, Msg Acc: 0.9675, BER: 0.040267\n",
            "Batch 39: Disc Acc: 0.4375, Msg Acc: 0.9677, BER: 0.040134\n",
            "Batch 40: Disc Acc: 0.3906, Msg Acc: 0.9687, BER: 0.039752\n",
            "Batch 41: Disc Acc: 0.4062, Msg Acc: 0.9685, BER: 0.039881\n",
            "Batch 42: Disc Acc: 0.4219, Msg Acc: 0.9678, BER: 0.040160\n",
            "Batch 43: Disc Acc: 0.3438, Msg Acc: 0.9684, BER: 0.039940\n",
            "Batch 44: Disc Acc: 0.4219, Msg Acc: 0.9680, BER: 0.040146\n",
            "Batch 45: Disc Acc: 0.3750, Msg Acc: 0.9679, BER: 0.040130\n",
            "Batch 46: Disc Acc: 0.4375, Msg Acc: 0.9676, BER: 0.040142\n",
            "Batch 47: Disc Acc: 0.4844, Msg Acc: 0.9679, BER: 0.040020\n",
            "Batch 48: Disc Acc: 0.4062, Msg Acc: 0.9682, BER: 0.040055\n",
            "Batch 49: Disc Acc: 0.4688, Msg Acc: 0.9679, BER: 0.040059\n",
            "Batch 50: Disc Acc: 0.3906, Msg Acc: 0.9683, BER: 0.040182\n",
            "Batch 51: Disc Acc: 0.3281, Msg Acc: 0.9685, BER: 0.039807\n",
            "Batch 52: Disc Acc: 0.4844, Msg Acc: 0.9680, BER: 0.040141\n",
            "Batch 53: Disc Acc: 0.3750, Msg Acc: 0.9681, BER: 0.039969\n",
            "Batch 54: Disc Acc: 0.4219, Msg Acc: 0.9681, BER: 0.039863\n",
            "Batch 55: Disc Acc: 0.4219, Msg Acc: 0.9684, BER: 0.040113\n",
            "Batch 56: Disc Acc: 0.4219, Msg Acc: 0.9680, BER: 0.040061\n",
            "Batch 57: Disc Acc: 0.2969, Msg Acc: 0.9681, BER: 0.040063\n",
            "Batch 58: Disc Acc: 0.4531, Msg Acc: 0.9683, BER: 0.039994\n",
            "Batch 59: Disc Acc: 0.3906, Msg Acc: 0.9679, BER: 0.040080\n",
            "Batch 60: Disc Acc: 0.4219, Msg Acc: 0.9681, BER: 0.039951\n",
            "Batch 61: Disc Acc: 0.4219, Msg Acc: 0.9679, BER: 0.040176\n",
            "Batch 62: Disc Acc: 0.3906, Msg Acc: 0.9680, BER: 0.040001\n",
            "Batch 63: Disc Acc: 0.4062, Msg Acc: 0.9680, BER: 0.040074\n",
            "Batch 64: Disc Acc: 0.4219, Msg Acc: 0.9687, BER: 0.039692\n",
            "Batch 65: Disc Acc: 0.5000, Msg Acc: 0.9684, BER: 0.039814\n",
            "Batch 66: Disc Acc: 0.3906, Msg Acc: 0.9684, BER: 0.039908\n",
            "Batch 67: Disc Acc: 0.4219, Msg Acc: 0.9682, BER: 0.039935\n",
            "Batch 68: Disc Acc: 0.4062, Msg Acc: 0.9680, BER: 0.040049\n",
            "Batch 69: Disc Acc: 0.3906, Msg Acc: 0.9680, BER: 0.040092\n",
            "Batch 70: Disc Acc: 0.3594, Msg Acc: 0.9682, BER: 0.039932\n",
            "Batch 71: Disc Acc: 0.4688, Msg Acc: 0.9682, BER: 0.039992\n",
            "Batch 72: Disc Acc: 0.4062, Msg Acc: 0.9680, BER: 0.040105\n",
            "Batch 73: Disc Acc: 0.4531, Msg Acc: 0.9680, BER: 0.040176\n",
            "Batch 74: Disc Acc: 0.4375, Msg Acc: 0.9679, BER: 0.040159\n",
            "Batch 75: Disc Acc: 0.4844, Msg Acc: 0.9680, BER: 0.040057\n",
            "Batch 76: Disc Acc: 0.4844, Msg Acc: 0.9680, BER: 0.040023\n",
            "Batch 77: Disc Acc: 0.4219, Msg Acc: 0.9678, BER: 0.040156\n",
            "Batch 78: Disc Acc: 0.4062, Msg Acc: 0.9681, BER: 0.039929\n",
            "\n",
            "Corrected Model Evaluation Results:\n",
            "Generator Loss: 0.197533\n",
            "Discriminator Accuracy: 0.4147\n",
            "Message Retrieval Accuracy: 0.9681\n",
            "BER Loss: 0.040013\n"
          ]
        }
      ]
    },
    {
      "cell_type": "code",
      "source": [
        "index = 500\n",
        "cover_image = tf.expand_dims(cover_images1[index], 0)\n",
        "message = tf.expand_dims(binary_messages[index], 0)\n",
        "stego_image = generator([cover_image, message], training=False)\n",
        "extracted_message = extractor(stego_image, training=False)\n",
        "bit_errors = tf.reduce_sum(tf.cast(tf.not_equal(tf.cast(tf.round(message), tf.uint8), tf.cast(tf.round(extracted_message), tf.uint8)), tf.float32))\n",
        "ber = bit_errors / tf.size(message, out_type=tf.float32)\n",
        "msg_acc = tf.reduce_mean(tf.cast(tf.equal(tf.cast(tf.round(message), tf.uint8), tf.cast(tf.round(extracted_message), tf.uint8)), tf.float32))\n",
        "# msg_acc = np.mean((tf.round(batch_message).numpy().astype(np.uint8) == tf.round(extracted_messages).numpy().astype(np.uint8)).astype(np.float32))\n",
        "print(f\"\\nIndex 500: Msg Acc: {msg_acc.numpy():.4f}, BER: {ber.numpy():.6f}, Bit Errors: {bit_errors.numpy()}\")"
      ],
      "metadata": {
        "colab": {
          "base_uri": "https://localhost:8080/"
        },
        "id": "vDTK5B4jycJX",
        "outputId": "3a3d838f-2ee6-4d5b-d801-7cae09e518af"
      },
      "execution_count": null,
      "outputs": [
        {
          "output_type": "stream",
          "name": "stdout",
          "text": [
            "\n",
            "Index 500: Msg Acc: 0.9678, BER: 0.032227, Bit Errors: 528.0\n"
          ]
        }
      ]
    },
    {
      "cell_type": "code",
      "source": [
        "import tensorflow as tf\n",
        "import numpy as np\n",
        "\n",
        "total_gen_loss, total_disc_acc, total_msg_acc, total_ber_loss = 0, 0, 0, 0\n",
        "num_batches = 0\n",
        "\n",
        "for batch_cover, batch_message in dataset:\n",
        "\n",
        "    stego_images = generator([batch_cover,batch_message])\n",
        "\n",
        "    real_output = discriminator(batch_cover)\n",
        "    fake_output = discriminator(stego_images)\n",
        "\n",
        "    extracted_messages = extractor(stego_images)\n",
        "\n",
        "    gen_loss = tf.keras.losses.MeanSquaredError()(batch_cover, stego_images).numpy()\n",
        "\n",
        "    real_acc = np.mean((real_output.numpy() > 0.5).astype(int) == 1)\n",
        "    fake_acc = np.mean((fake_output.numpy() < 0.5).astype(int) == 1)\n",
        "    disc_acc = (real_acc + fake_acc) / 2\n",
        "\n",
        "    msg_acc = np.mean((tf.round(batch_message) == tf.round(extracted_messages)).numpy().astype(np.float32))\n",
        "    ber_loss = ber_loss_fn(batch_message, extracted_messages).numpy()\n",
        "\n",
        "    total_gen_loss += gen_loss\n",
        "    total_disc_acc += disc_acc\n",
        "    total_msg_acc += msg_acc\n",
        "    total_ber_loss += ber_loss\n",
        "    num_batches += 1\n",
        "\n",
        "avg_gen_loss = total_gen_loss / num_batches\n",
        "avg_disc_acc = total_disc_acc / num_batches\n",
        "avg_msg_acc = total_msg_acc / num_batches\n",
        "avg_ber_loss = total_ber_loss / num_batches\n",
        "\n",
        "print(\"\\nModel Evaluation Results\")\n",
        "print(f\"Generator Loss: {avg_gen_loss:.6f}\")\n",
        "print(f\" Discriminator Accuracy: {avg_disc_acc:.4f}\")\n",
        "print(f\" Message Retrieval Accuracy: {avg_msg_acc:.4f}\")\n",
        "print(f\" BER Loss: {avg_ber_loss:.6f}\")"
      ],
      "metadata": {
        "id": "n5WbpIRw2i3q",
        "colab": {
          "base_uri": "https://localhost:8080/"
        },
        "outputId": "f911efa3-11ce-49f0-f407-7f4fa2277f32"
      },
      "execution_count": null,
      "outputs": [
        {
          "output_type": "stream",
          "name": "stdout",
          "text": [
            "\n",
            "Model Evaluation Results\n",
            "Generator Loss: 0.002070\n",
            " Discriminator Accuracy: 0.8433\n",
            " Message Retrieval Accuracy: 0.9681\n",
            " BER Loss: 0.040013\n"
          ]
        }
      ]
    },
    {
      "cell_type": "code",
      "source": [
        "def generate_stego_image(generator, cover_image, message):\n",
        "    cover_image = np.expand_dims(cover_image, axis=0)  # Add batch dimension\n",
        "    message = message.reshape(1, -1)   # Add batch dimension\n",
        "\n",
        "    stego_image = generator.predict([cover_image, message])\n",
        "    stego_image = np.squeeze(stego_image, axis=0)  # Remove batch dimension\n",
        "\n",
        "    return stego_image\n",
        "\n",
        "def decode_patient_info(binary_message):\n",
        "    \"\"\"Decode binary bit array back to structured patient info.\"\"\"\n",
        "    byte_array = np.packbits(binary_message)  # Convert bits to bytes\n",
        "    buffer_size = struct.calcsize(\">I B c 2s 30s 50s 80s 80s 50s f f H H H\")\n",
        "    unpacked_data = struct.unpack(\">I B c 2s 30s 50s 80s 80s 50s f f H H H\", byte_array[:buffer_size])\n",
        "\n",
        "    # Convert back to readable format\n",
        "    patient_info = {\n",
        "        \"patient_id\": unpacked_data[0],\n",
        "        \"age\": unpacked_data[1],\n",
        "        \"gender\": unpacked_data[2].decode(),\n",
        "        \"blood_type\": unpacked_data[3].decode(),\n",
        "        \"allergies\": unpacked_data[4].decode().strip(),\n",
        "        \"chronic_conditions\": unpacked_data[5].decode().strip(),\n",
        "        \"current_medications\": unpacked_data[6].decode().strip(),\n",
        "        \"recent_treatments\": unpacked_data[7].decode().strip(),\n",
        "        \"hospital_visits\": unpacked_data[8].decode().strip(),\n",
        "        \"lab_results\": {\n",
        "            \"hemoglobin\": unpacked_data[9],\n",
        "            \"cholesterol\": unpacked_data[10],\n",
        "            \"blood_pressure\": f\"{unpacked_data[11]}/{unpacked_data[12]}\",\n",
        "            \"heart_rate\": unpacked_data[13]\n",
        "        }\n",
        "    }\n",
        "\n",
        "    return patient_info\n",
        "\n",
        "def extract_message(stego_image):\n",
        "    stego_image = np.expand_dims(stego_image, axis=0)\n",
        "    extracted_message = extractor.predict(stego_image)\n",
        "    extracted_message = np.round(extracted_message).astype(np.uint8)\n",
        "    return extracted_message.squeeze()\n",
        "def count_bit_errors(original,extracted):\n",
        "    original = original.flatten()\n",
        "    extracted = extracted.flatten()\n",
        "    bit_errors = np.sum(original != extracted)\n",
        "    return bit_errors\n",
        "\n",
        "stego_image = generate_stego_image(generator, cover_images[500], binary_messages[500])\n",
        "extracted_message = extract_message(stego_image)\n",
        "patient_info = decode_patient_info(extracted_message)\n",
        "print(patient_info)\n"
      ],
      "metadata": {
        "colab": {
          "base_uri": "https://localhost:8080/"
        },
        "id": "vb5P_1cgdHwo",
        "outputId": "9706782a-6d07-4d3f-d49d-3aebd5ab8eb7"
      },
      "execution_count": null,
      "outputs": [
        {
          "output_type": "stream",
          "name": "stdout",
          "text": [
            "\u001b[1m1/1\u001b[0m \u001b[32m━━━━━━━━━━━━━━━━━━━━\u001b[0m\u001b[37m\u001b[0m \u001b[1m3s\u001b[0m 3s/step\n",
            "\u001b[1m1/1\u001b[0m \u001b[32m━━━━━━━━━━━━━━━━━━━━\u001b[0m\u001b[37m\u001b[0m \u001b[1m2s\u001b[0m 2s/step\n"
          ]
        }
      ]
    },
    {
      "cell_type": "code",
      "source": [
        "raw_ber = count_bit_errors(binary_messages[0], extracted_message)\n",
        "print(f\"BER: {raw_ber}\")\n",
        "\n"
      ],
      "metadata": {
        "id": "Zpu_nmBd84ip",
        "colab": {
          "base_uri": "https://localhost:8080/"
        },
        "outputId": "762f54d2-288a-472b-8bcf-12c272efa776"
      },
      "execution_count": null,
      "outputs": [
        {
          "output_type": "stream",
          "name": "stdout",
          "text": [
            "BER: 537\n"
          ]
        }
      ]
    },
    {
      "cell_type": "code",
      "source": [
        "random_indices = np.random.choice(len(cover_images), 2000, replace=False)\n",
        "selected_covers = cover_images[random_indices]\n",
        "print(f\"selected_covers:{selected_covers.shape}\")\n",
        "rand_indices= np.random.choice(len(binary_messages),2000,replace= False)\n",
        "selected_messages=binary_messages[rand_indices]\n",
        "stego_images = generator.predict([selected_covers, selected_messages])\n",
        "stego_images = np.clip(stego_images, 0.0, 1.0)\n",
        "# np.save(\"/content/drive/MyDrive/testing/attacker/stego_images_200.npy\", stego_images)\n",
        "# print(\" Generated and saved 300 stego images.\")"
      ],
      "metadata": {
        "colab": {
          "base_uri": "https://localhost:8080/"
        },
        "id": "jYL2YubEFWhN",
        "outputId": "9b10459f-8027-4d24-a545-0ca7ae5ca2ba"
      },
      "execution_count": null,
      "outputs": [
        {
          "output_type": "stream",
          "name": "stdout",
          "text": [
            "selected_covers:(2000, 256, 256, 1)\n",
            "\u001b[1m63/63\u001b[0m \u001b[32m━━━━━━━━━━━━━━━━━━━━\u001b[0m\u001b[37m\u001b[0m \u001b[1m4s\u001b[0m 37ms/step\n"
          ]
        }
      ]
    },
    {
      "cell_type": "code",
      "source": [
        "stego_images=generator.predict([cover_images,binary_messages])"
      ],
      "metadata": {
        "colab": {
          "base_uri": "https://localhost:8080/"
        },
        "id": "WutOfVoOa7LL",
        "outputId": "3973faec-b11f-4c21-b39b-ad80d7d8c04a"
      },
      "execution_count": null,
      "outputs": [
        {
          "output_type": "stream",
          "name": "stdout",
          "text": [
            "\u001b[1m79/79\u001b[0m \u001b[32m━━━━━━━━━━━━━━━━━━━━\u001b[0m\u001b[37m\u001b[0m \u001b[1m4s\u001b[0m 27ms/step\n"
          ]
        }
      ]
    },
    {
      "cell_type": "code",
      "source": [
        "print(f\"stego image shape:{stego_images.shape}\")\n",
        "print(f\"cover image shape:{cover_images.shape}\")"
      ],
      "metadata": {
        "colab": {
          "base_uri": "https://localhost:8080/"
        },
        "id": "5GorzdvMIBAv",
        "outputId": "74ac5cf9-fc80-4d7b-a587-d96d9e8f1127"
      },
      "execution_count": null,
      "outputs": [
        {
          "output_type": "stream",
          "name": "stdout",
          "text": [
            "stego image shape:(2500, 256, 256, 1)\n",
            "cover image shape:(2500, 256, 256, 1)\n"
          ]
        }
      ]
    },
    {
      "cell_type": "code",
      "source": [
        "import numpy as np\n",
        "import tensorflow as tf\n",
        "from sklearn.model_selection import train_test_split\n",
        "\n",
        "# If shape is (N, H, W), expand dims to (N, H, W, 1)\n",
        "if len(cover_images.shape) == 3:\n",
        "    cover_images = np.expand_dims(cover_images, axis=-1)\n",
        "if len(stego_images.shape) == 3:\n",
        "    stego_images = np.expand_dims(stego_images, axis=-1)\n",
        "\n",
        "# Normalize to [0, 1]\n",
        "cover_images = cover_images.astype(np.float32) / 255.0\n",
        "stego_images = stego_images.astype(np.float32) / 255.0\n",
        "\n",
        "# Create labels\n",
        "cover_labels = np.zeros(len(cover_images))\n",
        "stego_labels = np.ones(len(stego_images))\n",
        "\n",
        "# Merge\n",
        "X = np.concatenate([cover_images, stego_images], axis=0)\n",
        "y = np.concatenate([cover_labels, stego_labels], axis=0)\n",
        "\n",
        "# Train-validation split\n",
        "X_train, X_val, y_train, y_val = train_test_split(X, y, test_size=0.2, random_state=42, shuffle=True)\n",
        "print(f\"X_train shape: {X_train.shape}, y_train shape: {y_train.shape}\")\n",
        "print(f\"X_val shape: {X_val.shape}, y_val shape: {y_val.shape}\")\n",
        "# Create tf.data.Dataset\n",
        "def make_dataset(images, labels, shuffle=True, batch_size=32):\n",
        "    ds = tf.data.Dataset.from_tensor_slices((images, labels))\n",
        "    if shuffle:\n",
        "        ds = ds.shuffle(buffer_size=1000)\n",
        "    return ds.batch(batch_size).prefetch(tf.data.AUTOTUNE)\n",
        "\n",
        "train_ds = make_dataset(X_train, y_train)\n",
        "val_ds = make_dataset(X_val, y_val, shuffle=False)\n",
        "for images, labels in train_ds.take(1):\n",
        "    print(f\"train_ds batch shape: {images.shape}, labels shape: {labels.shape}\")\n",
        "for images, labels in val_ds.take(1):\n",
        "    print(f\"val_ds batch shape: {images.shape}, labels shape: {labels.shape}\")"
      ],
      "metadata": {
        "id": "qknEvkqreJhp",
        "colab": {
          "base_uri": "https://localhost:8080/"
        },
        "outputId": "adcd0488-11bb-4869-c00b-0157c5283c12"
      },
      "execution_count": null,
      "outputs": [
        {
          "output_type": "stream",
          "name": "stdout",
          "text": [
            "X_train shape: (4000, 256, 256, 1), y_train shape: (4000,)\n",
            "X_val shape: (1000, 256, 256, 1), y_val shape: (1000,)\n",
            "train_ds batch shape: (32, 256, 256, 1), labels shape: (32,)\n",
            "val_ds batch shape: (32, 256, 256, 1), labels shape: (32,)\n"
          ]
        }
      ]
    },
    {
      "cell_type": "code",
      "source": [
        "from tensorflow.keras.models import Sequential\n",
        "from tensorflow.keras.layers import Conv2D, BatchNormalization, Activation, Flatten, Dense, MaxPooling2D\n",
        "from tensorflow.keras.layers import Dropout\n",
        "from tensorflow.keras import regularizers\n",
        "def build_steganalysis_network(input_shape=(256, 256, 1)):\n",
        "\n",
        "    model = Sequential()\n",
        "    model.add(Conv2D(32, (3, 3), padding=\"same\", input_shape=input_shape))\n",
        "    model.add(BatchNormalization())\n",
        "    model.add(Activation(\"relu\"))\n",
        "    model.add(MaxPooling2D((2, 2)))  # Reduce spatial dimensions\n",
        "\n",
        "    model.add(Conv2D(64, (3, 3), padding=\"same\"))\n",
        "    model.add(BatchNormalization())\n",
        "    model.add(Activation(\"relu\"))\n",
        "    model.add(MaxPooling2D((2, 2)))  # Reduce spatial dimensions\n",
        "\n",
        "    model.add(Conv2D(128, (3, 3), padding=\"same\"))\n",
        "    model.add(BatchNormalization())\n",
        "    model.add(Activation(\"relu\"))\n",
        "    model.add(MaxPooling2D((2, 2)))  # Reduce spatial dimensions\n",
        "\n",
        "    model.add(Flatten())\n",
        "    model.add(Dense(128, kernel_regularizer=regularizers.l2(1e-3)))  # L2 regularization\n",
        "    model.add(BatchNormalization())\n",
        "    model.add(Activation(\"relu\"))\n",
        "    model.add(Dropout(0.5))\n",
        "\n",
        "    model.add(Dense(1, activation=\"sigmoid\"))\n",
        "    return model"
      ],
      "metadata": {
        "id": "FYsavOaFFdGT"
      },
      "execution_count": null,
      "outputs": []
    },
    {
      "cell_type": "code",
      "source": [
        "model=build_steganalysis_network()\n",
        "model.summary()\n",
        "\n",
        "model.compile(\n",
        "    optimizer=tf.keras.optimizers.Adam(1e-4),\n",
        "    loss=tf.keras.losses.BinaryCrossentropy(),\n",
        "    metrics=[\"accuracy\"]\n",
        ")\n"
      ],
      "metadata": {
        "colab": {
          "base_uri": "https://localhost:8080/",
          "height": 769
        },
        "id": "ZPIgqPRzFe1w",
        "outputId": "80d43965-c3d2-42a8-947c-d77471b2ff82"
      },
      "execution_count": null,
      "outputs": [
        {
          "output_type": "display_data",
          "data": {
            "text/plain": [
              "\u001b[1mModel: \"sequential_1\"\u001b[0m\n"
            ],
            "text/html": [
              "<pre style=\"white-space:pre;overflow-x:auto;line-height:normal;font-family:Menlo,'DejaVu Sans Mono',consolas,'Courier New',monospace\"><span style=\"font-weight: bold\">Model: \"sequential_1\"</span>\n",
              "</pre>\n"
            ]
          },
          "metadata": {}
        },
        {
          "output_type": "display_data",
          "data": {
            "text/plain": [
              "┏━━━━━━━━━━━━━━━━━━━━━━━━━━━━━━━━━━━━━━┳━━━━━━━━━━━━━━━━━━━━━━━━━━━━━┳━━━━━━━━━━━━━━━━━┓\n",
              "┃\u001b[1m \u001b[0m\u001b[1mLayer (type)                        \u001b[0m\u001b[1m \u001b[0m┃\u001b[1m \u001b[0m\u001b[1mOutput Shape               \u001b[0m\u001b[1m \u001b[0m┃\u001b[1m \u001b[0m\u001b[1m        Param #\u001b[0m\u001b[1m \u001b[0m┃\n",
              "┡━━━━━━━━━━━━━━━━━━━━━━━━━━━━━━━━━━━━━━╇━━━━━━━━━━━━━━━━━━━━━━━━━━━━━╇━━━━━━━━━━━━━━━━━┩\n",
              "│ conv2d_3 (\u001b[38;5;33mConv2D\u001b[0m)                    │ (\u001b[38;5;45mNone\u001b[0m, \u001b[38;5;34m256\u001b[0m, \u001b[38;5;34m256\u001b[0m, \u001b[38;5;34m32\u001b[0m)        │             \u001b[38;5;34m320\u001b[0m │\n",
              "├──────────────────────────────────────┼─────────────────────────────┼─────────────────┤\n",
              "│ batch_normalization_4                │ (\u001b[38;5;45mNone\u001b[0m, \u001b[38;5;34m256\u001b[0m, \u001b[38;5;34m256\u001b[0m, \u001b[38;5;34m32\u001b[0m)        │             \u001b[38;5;34m128\u001b[0m │\n",
              "│ (\u001b[38;5;33mBatchNormalization\u001b[0m)                 │                             │                 │\n",
              "├──────────────────────────────────────┼─────────────────────────────┼─────────────────┤\n",
              "│ activation_4 (\u001b[38;5;33mActivation\u001b[0m)            │ (\u001b[38;5;45mNone\u001b[0m, \u001b[38;5;34m256\u001b[0m, \u001b[38;5;34m256\u001b[0m, \u001b[38;5;34m32\u001b[0m)        │               \u001b[38;5;34m0\u001b[0m │\n",
              "├──────────────────────────────────────┼─────────────────────────────┼─────────────────┤\n",
              "│ max_pooling2d_3 (\u001b[38;5;33mMaxPooling2D\u001b[0m)       │ (\u001b[38;5;45mNone\u001b[0m, \u001b[38;5;34m128\u001b[0m, \u001b[38;5;34m128\u001b[0m, \u001b[38;5;34m32\u001b[0m)        │               \u001b[38;5;34m0\u001b[0m │\n",
              "├──────────────────────────────────────┼─────────────────────────────┼─────────────────┤\n",
              "│ conv2d_4 (\u001b[38;5;33mConv2D\u001b[0m)                    │ (\u001b[38;5;45mNone\u001b[0m, \u001b[38;5;34m128\u001b[0m, \u001b[38;5;34m128\u001b[0m, \u001b[38;5;34m64\u001b[0m)        │          \u001b[38;5;34m18,496\u001b[0m │\n",
              "├──────────────────────────────────────┼─────────────────────────────┼─────────────────┤\n",
              "│ batch_normalization_5                │ (\u001b[38;5;45mNone\u001b[0m, \u001b[38;5;34m128\u001b[0m, \u001b[38;5;34m128\u001b[0m, \u001b[38;5;34m64\u001b[0m)        │             \u001b[38;5;34m256\u001b[0m │\n",
              "│ (\u001b[38;5;33mBatchNormalization\u001b[0m)                 │                             │                 │\n",
              "├──────────────────────────────────────┼─────────────────────────────┼─────────────────┤\n",
              "│ activation_5 (\u001b[38;5;33mActivation\u001b[0m)            │ (\u001b[38;5;45mNone\u001b[0m, \u001b[38;5;34m128\u001b[0m, \u001b[38;5;34m128\u001b[0m, \u001b[38;5;34m64\u001b[0m)        │               \u001b[38;5;34m0\u001b[0m │\n",
              "├──────────────────────────────────────┼─────────────────────────────┼─────────────────┤\n",
              "│ max_pooling2d_4 (\u001b[38;5;33mMaxPooling2D\u001b[0m)       │ (\u001b[38;5;45mNone\u001b[0m, \u001b[38;5;34m64\u001b[0m, \u001b[38;5;34m64\u001b[0m, \u001b[38;5;34m64\u001b[0m)          │               \u001b[38;5;34m0\u001b[0m │\n",
              "├──────────────────────────────────────┼─────────────────────────────┼─────────────────┤\n",
              "│ conv2d_5 (\u001b[38;5;33mConv2D\u001b[0m)                    │ (\u001b[38;5;45mNone\u001b[0m, \u001b[38;5;34m64\u001b[0m, \u001b[38;5;34m64\u001b[0m, \u001b[38;5;34m128\u001b[0m)         │          \u001b[38;5;34m73,856\u001b[0m │\n",
              "├──────────────────────────────────────┼─────────────────────────────┼─────────────────┤\n",
              "│ batch_normalization_6                │ (\u001b[38;5;45mNone\u001b[0m, \u001b[38;5;34m64\u001b[0m, \u001b[38;5;34m64\u001b[0m, \u001b[38;5;34m128\u001b[0m)         │             \u001b[38;5;34m512\u001b[0m │\n",
              "│ (\u001b[38;5;33mBatchNormalization\u001b[0m)                 │                             │                 │\n",
              "├──────────────────────────────────────┼─────────────────────────────┼─────────────────┤\n",
              "│ activation_6 (\u001b[38;5;33mActivation\u001b[0m)            │ (\u001b[38;5;45mNone\u001b[0m, \u001b[38;5;34m64\u001b[0m, \u001b[38;5;34m64\u001b[0m, \u001b[38;5;34m128\u001b[0m)         │               \u001b[38;5;34m0\u001b[0m │\n",
              "├──────────────────────────────────────┼─────────────────────────────┼─────────────────┤\n",
              "│ max_pooling2d_5 (\u001b[38;5;33mMaxPooling2D\u001b[0m)       │ (\u001b[38;5;45mNone\u001b[0m, \u001b[38;5;34m32\u001b[0m, \u001b[38;5;34m32\u001b[0m, \u001b[38;5;34m128\u001b[0m)         │               \u001b[38;5;34m0\u001b[0m │\n",
              "├──────────────────────────────────────┼─────────────────────────────┼─────────────────┤\n",
              "│ flatten_1 (\u001b[38;5;33mFlatten\u001b[0m)                  │ (\u001b[38;5;45mNone\u001b[0m, \u001b[38;5;34m131072\u001b[0m)              │               \u001b[38;5;34m0\u001b[0m │\n",
              "├──────────────────────────────────────┼─────────────────────────────┼─────────────────┤\n",
              "│ dense_2 (\u001b[38;5;33mDense\u001b[0m)                      │ (\u001b[38;5;45mNone\u001b[0m, \u001b[38;5;34m128\u001b[0m)                 │      \u001b[38;5;34m16,777,344\u001b[0m │\n",
              "├──────────────────────────────────────┼─────────────────────────────┼─────────────────┤\n",
              "│ batch_normalization_7                │ (\u001b[38;5;45mNone\u001b[0m, \u001b[38;5;34m128\u001b[0m)                 │             \u001b[38;5;34m512\u001b[0m │\n",
              "│ (\u001b[38;5;33mBatchNormalization\u001b[0m)                 │                             │                 │\n",
              "├──────────────────────────────────────┼─────────────────────────────┼─────────────────┤\n",
              "│ activation_7 (\u001b[38;5;33mActivation\u001b[0m)            │ (\u001b[38;5;45mNone\u001b[0m, \u001b[38;5;34m128\u001b[0m)                 │               \u001b[38;5;34m0\u001b[0m │\n",
              "├──────────────────────────────────────┼─────────────────────────────┼─────────────────┤\n",
              "│ dropout_1 (\u001b[38;5;33mDropout\u001b[0m)                  │ (\u001b[38;5;45mNone\u001b[0m, \u001b[38;5;34m128\u001b[0m)                 │               \u001b[38;5;34m0\u001b[0m │\n",
              "├──────────────────────────────────────┼─────────────────────────────┼─────────────────┤\n",
              "│ dense_3 (\u001b[38;5;33mDense\u001b[0m)                      │ (\u001b[38;5;45mNone\u001b[0m, \u001b[38;5;34m1\u001b[0m)                   │             \u001b[38;5;34m129\u001b[0m │\n",
              "└──────────────────────────────────────┴─────────────────────────────┴─────────────────┘\n"
            ],
            "text/html": [
              "<pre style=\"white-space:pre;overflow-x:auto;line-height:normal;font-family:Menlo,'DejaVu Sans Mono',consolas,'Courier New',monospace\">┏━━━━━━━━━━━━━━━━━━━━━━━━━━━━━━━━━━━━━━┳━━━━━━━━━━━━━━━━━━━━━━━━━━━━━┳━━━━━━━━━━━━━━━━━┓\n",
              "┃<span style=\"font-weight: bold\"> Layer (type)                         </span>┃<span style=\"font-weight: bold\"> Output Shape                </span>┃<span style=\"font-weight: bold\">         Param # </span>┃\n",
              "┡━━━━━━━━━━━━━━━━━━━━━━━━━━━━━━━━━━━━━━╇━━━━━━━━━━━━━━━━━━━━━━━━━━━━━╇━━━━━━━━━━━━━━━━━┩\n",
              "│ conv2d_3 (<span style=\"color: #0087ff; text-decoration-color: #0087ff\">Conv2D</span>)                    │ (<span style=\"color: #00d7ff; text-decoration-color: #00d7ff\">None</span>, <span style=\"color: #00af00; text-decoration-color: #00af00\">256</span>, <span style=\"color: #00af00; text-decoration-color: #00af00\">256</span>, <span style=\"color: #00af00; text-decoration-color: #00af00\">32</span>)        │             <span style=\"color: #00af00; text-decoration-color: #00af00\">320</span> │\n",
              "├──────────────────────────────────────┼─────────────────────────────┼─────────────────┤\n",
              "│ batch_normalization_4                │ (<span style=\"color: #00d7ff; text-decoration-color: #00d7ff\">None</span>, <span style=\"color: #00af00; text-decoration-color: #00af00\">256</span>, <span style=\"color: #00af00; text-decoration-color: #00af00\">256</span>, <span style=\"color: #00af00; text-decoration-color: #00af00\">32</span>)        │             <span style=\"color: #00af00; text-decoration-color: #00af00\">128</span> │\n",
              "│ (<span style=\"color: #0087ff; text-decoration-color: #0087ff\">BatchNormalization</span>)                 │                             │                 │\n",
              "├──────────────────────────────────────┼─────────────────────────────┼─────────────────┤\n",
              "│ activation_4 (<span style=\"color: #0087ff; text-decoration-color: #0087ff\">Activation</span>)            │ (<span style=\"color: #00d7ff; text-decoration-color: #00d7ff\">None</span>, <span style=\"color: #00af00; text-decoration-color: #00af00\">256</span>, <span style=\"color: #00af00; text-decoration-color: #00af00\">256</span>, <span style=\"color: #00af00; text-decoration-color: #00af00\">32</span>)        │               <span style=\"color: #00af00; text-decoration-color: #00af00\">0</span> │\n",
              "├──────────────────────────────────────┼─────────────────────────────┼─────────────────┤\n",
              "│ max_pooling2d_3 (<span style=\"color: #0087ff; text-decoration-color: #0087ff\">MaxPooling2D</span>)       │ (<span style=\"color: #00d7ff; text-decoration-color: #00d7ff\">None</span>, <span style=\"color: #00af00; text-decoration-color: #00af00\">128</span>, <span style=\"color: #00af00; text-decoration-color: #00af00\">128</span>, <span style=\"color: #00af00; text-decoration-color: #00af00\">32</span>)        │               <span style=\"color: #00af00; text-decoration-color: #00af00\">0</span> │\n",
              "├──────────────────────────────────────┼─────────────────────────────┼─────────────────┤\n",
              "│ conv2d_4 (<span style=\"color: #0087ff; text-decoration-color: #0087ff\">Conv2D</span>)                    │ (<span style=\"color: #00d7ff; text-decoration-color: #00d7ff\">None</span>, <span style=\"color: #00af00; text-decoration-color: #00af00\">128</span>, <span style=\"color: #00af00; text-decoration-color: #00af00\">128</span>, <span style=\"color: #00af00; text-decoration-color: #00af00\">64</span>)        │          <span style=\"color: #00af00; text-decoration-color: #00af00\">18,496</span> │\n",
              "├──────────────────────────────────────┼─────────────────────────────┼─────────────────┤\n",
              "│ batch_normalization_5                │ (<span style=\"color: #00d7ff; text-decoration-color: #00d7ff\">None</span>, <span style=\"color: #00af00; text-decoration-color: #00af00\">128</span>, <span style=\"color: #00af00; text-decoration-color: #00af00\">128</span>, <span style=\"color: #00af00; text-decoration-color: #00af00\">64</span>)        │             <span style=\"color: #00af00; text-decoration-color: #00af00\">256</span> │\n",
              "│ (<span style=\"color: #0087ff; text-decoration-color: #0087ff\">BatchNormalization</span>)                 │                             │                 │\n",
              "├──────────────────────────────────────┼─────────────────────────────┼─────────────────┤\n",
              "│ activation_5 (<span style=\"color: #0087ff; text-decoration-color: #0087ff\">Activation</span>)            │ (<span style=\"color: #00d7ff; text-decoration-color: #00d7ff\">None</span>, <span style=\"color: #00af00; text-decoration-color: #00af00\">128</span>, <span style=\"color: #00af00; text-decoration-color: #00af00\">128</span>, <span style=\"color: #00af00; text-decoration-color: #00af00\">64</span>)        │               <span style=\"color: #00af00; text-decoration-color: #00af00\">0</span> │\n",
              "├──────────────────────────────────────┼─────────────────────────────┼─────────────────┤\n",
              "│ max_pooling2d_4 (<span style=\"color: #0087ff; text-decoration-color: #0087ff\">MaxPooling2D</span>)       │ (<span style=\"color: #00d7ff; text-decoration-color: #00d7ff\">None</span>, <span style=\"color: #00af00; text-decoration-color: #00af00\">64</span>, <span style=\"color: #00af00; text-decoration-color: #00af00\">64</span>, <span style=\"color: #00af00; text-decoration-color: #00af00\">64</span>)          │               <span style=\"color: #00af00; text-decoration-color: #00af00\">0</span> │\n",
              "├──────────────────────────────────────┼─────────────────────────────┼─────────────────┤\n",
              "│ conv2d_5 (<span style=\"color: #0087ff; text-decoration-color: #0087ff\">Conv2D</span>)                    │ (<span style=\"color: #00d7ff; text-decoration-color: #00d7ff\">None</span>, <span style=\"color: #00af00; text-decoration-color: #00af00\">64</span>, <span style=\"color: #00af00; text-decoration-color: #00af00\">64</span>, <span style=\"color: #00af00; text-decoration-color: #00af00\">128</span>)         │          <span style=\"color: #00af00; text-decoration-color: #00af00\">73,856</span> │\n",
              "├──────────────────────────────────────┼─────────────────────────────┼─────────────────┤\n",
              "│ batch_normalization_6                │ (<span style=\"color: #00d7ff; text-decoration-color: #00d7ff\">None</span>, <span style=\"color: #00af00; text-decoration-color: #00af00\">64</span>, <span style=\"color: #00af00; text-decoration-color: #00af00\">64</span>, <span style=\"color: #00af00; text-decoration-color: #00af00\">128</span>)         │             <span style=\"color: #00af00; text-decoration-color: #00af00\">512</span> │\n",
              "│ (<span style=\"color: #0087ff; text-decoration-color: #0087ff\">BatchNormalization</span>)                 │                             │                 │\n",
              "├──────────────────────────────────────┼─────────────────────────────┼─────────────────┤\n",
              "│ activation_6 (<span style=\"color: #0087ff; text-decoration-color: #0087ff\">Activation</span>)            │ (<span style=\"color: #00d7ff; text-decoration-color: #00d7ff\">None</span>, <span style=\"color: #00af00; text-decoration-color: #00af00\">64</span>, <span style=\"color: #00af00; text-decoration-color: #00af00\">64</span>, <span style=\"color: #00af00; text-decoration-color: #00af00\">128</span>)         │               <span style=\"color: #00af00; text-decoration-color: #00af00\">0</span> │\n",
              "├──────────────────────────────────────┼─────────────────────────────┼─────────────────┤\n",
              "│ max_pooling2d_5 (<span style=\"color: #0087ff; text-decoration-color: #0087ff\">MaxPooling2D</span>)       │ (<span style=\"color: #00d7ff; text-decoration-color: #00d7ff\">None</span>, <span style=\"color: #00af00; text-decoration-color: #00af00\">32</span>, <span style=\"color: #00af00; text-decoration-color: #00af00\">32</span>, <span style=\"color: #00af00; text-decoration-color: #00af00\">128</span>)         │               <span style=\"color: #00af00; text-decoration-color: #00af00\">0</span> │\n",
              "├──────────────────────────────────────┼─────────────────────────────┼─────────────────┤\n",
              "│ flatten_1 (<span style=\"color: #0087ff; text-decoration-color: #0087ff\">Flatten</span>)                  │ (<span style=\"color: #00d7ff; text-decoration-color: #00d7ff\">None</span>, <span style=\"color: #00af00; text-decoration-color: #00af00\">131072</span>)              │               <span style=\"color: #00af00; text-decoration-color: #00af00\">0</span> │\n",
              "├──────────────────────────────────────┼─────────────────────────────┼─────────────────┤\n",
              "│ dense_2 (<span style=\"color: #0087ff; text-decoration-color: #0087ff\">Dense</span>)                      │ (<span style=\"color: #00d7ff; text-decoration-color: #00d7ff\">None</span>, <span style=\"color: #00af00; text-decoration-color: #00af00\">128</span>)                 │      <span style=\"color: #00af00; text-decoration-color: #00af00\">16,777,344</span> │\n",
              "├──────────────────────────────────────┼─────────────────────────────┼─────────────────┤\n",
              "│ batch_normalization_7                │ (<span style=\"color: #00d7ff; text-decoration-color: #00d7ff\">None</span>, <span style=\"color: #00af00; text-decoration-color: #00af00\">128</span>)                 │             <span style=\"color: #00af00; text-decoration-color: #00af00\">512</span> │\n",
              "│ (<span style=\"color: #0087ff; text-decoration-color: #0087ff\">BatchNormalization</span>)                 │                             │                 │\n",
              "├──────────────────────────────────────┼─────────────────────────────┼─────────────────┤\n",
              "│ activation_7 (<span style=\"color: #0087ff; text-decoration-color: #0087ff\">Activation</span>)            │ (<span style=\"color: #00d7ff; text-decoration-color: #00d7ff\">None</span>, <span style=\"color: #00af00; text-decoration-color: #00af00\">128</span>)                 │               <span style=\"color: #00af00; text-decoration-color: #00af00\">0</span> │\n",
              "├──────────────────────────────────────┼─────────────────────────────┼─────────────────┤\n",
              "│ dropout_1 (<span style=\"color: #0087ff; text-decoration-color: #0087ff\">Dropout</span>)                  │ (<span style=\"color: #00d7ff; text-decoration-color: #00d7ff\">None</span>, <span style=\"color: #00af00; text-decoration-color: #00af00\">128</span>)                 │               <span style=\"color: #00af00; text-decoration-color: #00af00\">0</span> │\n",
              "├──────────────────────────────────────┼─────────────────────────────┼─────────────────┤\n",
              "│ dense_3 (<span style=\"color: #0087ff; text-decoration-color: #0087ff\">Dense</span>)                      │ (<span style=\"color: #00d7ff; text-decoration-color: #00d7ff\">None</span>, <span style=\"color: #00af00; text-decoration-color: #00af00\">1</span>)                   │             <span style=\"color: #00af00; text-decoration-color: #00af00\">129</span> │\n",
              "└──────────────────────────────────────┴─────────────────────────────┴─────────────────┘\n",
              "</pre>\n"
            ]
          },
          "metadata": {}
        },
        {
          "output_type": "display_data",
          "data": {
            "text/plain": [
              "\u001b[1m Total params: \u001b[0m\u001b[38;5;34m16,871,553\u001b[0m (64.36 MB)\n"
            ],
            "text/html": [
              "<pre style=\"white-space:pre;overflow-x:auto;line-height:normal;font-family:Menlo,'DejaVu Sans Mono',consolas,'Courier New',monospace\"><span style=\"font-weight: bold\"> Total params: </span><span style=\"color: #00af00; text-decoration-color: #00af00\">16,871,553</span> (64.36 MB)\n",
              "</pre>\n"
            ]
          },
          "metadata": {}
        },
        {
          "output_type": "display_data",
          "data": {
            "text/plain": [
              "\u001b[1m Trainable params: \u001b[0m\u001b[38;5;34m16,870,849\u001b[0m (64.36 MB)\n"
            ],
            "text/html": [
              "<pre style=\"white-space:pre;overflow-x:auto;line-height:normal;font-family:Menlo,'DejaVu Sans Mono',consolas,'Courier New',monospace\"><span style=\"font-weight: bold\"> Trainable params: </span><span style=\"color: #00af00; text-decoration-color: #00af00\">16,870,849</span> (64.36 MB)\n",
              "</pre>\n"
            ]
          },
          "metadata": {}
        },
        {
          "output_type": "display_data",
          "data": {
            "text/plain": [
              "\u001b[1m Non-trainable params: \u001b[0m\u001b[38;5;34m704\u001b[0m (2.75 KB)\n"
            ],
            "text/html": [
              "<pre style=\"white-space:pre;overflow-x:auto;line-height:normal;font-family:Menlo,'DejaVu Sans Mono',consolas,'Courier New',monospace\"><span style=\"font-weight: bold\"> Non-trainable params: </span><span style=\"color: #00af00; text-decoration-color: #00af00\">704</span> (2.75 KB)\n",
              "</pre>\n"
            ]
          },
          "metadata": {}
        }
      ]
    },
    {
      "cell_type": "code",
      "source": [
        "from tensorflow.keras.callbacks import ReduceLROnPlateau, EarlyStopping, ModelCheckpoint\n",
        "import matplotlib.pyplot as plt\n",
        "\n",
        "# === Callbacks ===\n",
        "callbacks = [\n",
        "    ReduceLROnPlateau(\n",
        "        monitor='val_loss',\n",
        "        factor=0.5,\n",
        "        patience=4,\n",
        "        min_lr=1e-6,\n",
        "        verbose=1\n",
        "    ),\n",
        "    EarlyStopping(\n",
        "        monitor='val_loss',\n",
        "        patience=8,\n",
        "        restore_best_weights=True,\n",
        "        verbose=1\n",
        "    ),\n",
        "    # Optional: Save best model automatically during training\n",
        "    ModelCheckpoint(\n",
        "        filepath=\"/content/drive/MyDrive/testing/attacker/best_model.keras\",\n",
        "        monitor=\"val_loss\",\n",
        "        save_best_only=True,\n",
        "        verbose=1\n",
        "    )\n",
        "]\n",
        "\n",
        "# === Training ===\n",
        "history = model.fit(\n",
        "    train_ds,\n",
        "    validation_data=val_ds,\n",
        "    epochs=20,\n",
        "    callbacks=callbacks\n",
        ")\n",
        "\n",
        "# === Save Final Model ===\n",
        "model.save(\"/content/drive/MyDrive/testing/attacker/grayscale_steganalysis_model.keras\")\n",
        "\n",
        "# === Plot Accuracy and Loss ===\n",
        "def plot_training_history(history):\n",
        "    plt.figure(figsize=(12, 5))\n",
        "\n",
        "    # Accuracy plot\n",
        "    plt.subplot(1, 2, 1)\n",
        "    plt.plot(history.history['accuracy'], label='Train Accuracy', marker='o')\n",
        "    plt.plot(history.history['val_accuracy'], label='Val Accuracy', marker='o')\n",
        "    plt.title('Accuracy over Epochs')\n",
        "    plt.xlabel('Epoch')\n",
        "    plt.ylabel('Accuracy')\n",
        "    plt.legend()\n",
        "    plt.grid(True)\n",
        "\n",
        "    # Loss plot\n",
        "    plt.subplot(1, 2, 2)\n",
        "    plt.plot(history.history['loss'], label='Train Loss', marker='o')\n",
        "    plt.plot(history.history['val_loss'], label='Val Loss', marker='o')\n",
        "    plt.title('Loss over Epochs')\n",
        "    plt.xlabel('Epoch')\n",
        "    plt.ylabel('Loss')\n",
        "    plt.legend()\n",
        "    plt.grid(True)\n",
        "\n",
        "    plt.tight_layout()\n",
        "    plt.show()\n",
        "\n",
        "# Call the plotting function\n",
        "plot_training_history(history)\n"
      ],
      "metadata": {
        "colab": {
          "base_uri": "https://localhost:8080/",
          "height": 1000
        },
        "id": "FOJJd2OvFgjS",
        "outputId": "094684b3-9f86-4ca4-b8d3-d9b497f4854c"
      },
      "execution_count": null,
      "outputs": [
        {
          "output_type": "stream",
          "name": "stdout",
          "text": [
            "Epoch 1/20\n",
            "\u001b[1m125/125\u001b[0m \u001b[32m━━━━━━━━━━━━━━━━━━━━\u001b[0m\u001b[37m\u001b[0m \u001b[1m0s\u001b[0m 69ms/step - accuracy: 0.7724 - loss: 0.7567\n",
            "Epoch 1: val_loss improved from inf to 0.97779, saving model to /content/drive/MyDrive/testing/attacker/best_model.keras\n",
            "\u001b[1m125/125\u001b[0m \u001b[32m━━━━━━━━━━━━━━━━━━━━\u001b[0m\u001b[37m\u001b[0m \u001b[1m27s\u001b[0m 135ms/step - accuracy: 0.7733 - loss: 0.7550 - val_accuracy: 0.5000 - val_loss: 0.9778 - learning_rate: 1.0000e-04\n",
            "Epoch 2/20\n",
            "\u001b[1m125/125\u001b[0m \u001b[32m━━━━━━━━━━━━━━━━━━━━\u001b[0m\u001b[37m\u001b[0m \u001b[1m0s\u001b[0m 69ms/step - accuracy: 0.9913 - loss: 0.2841\n",
            "Epoch 2: val_loss did not improve from 0.97779\n",
            "\u001b[1m125/125\u001b[0m \u001b[32m━━━━━━━━━━━━━━━━━━━━\u001b[0m\u001b[37m\u001b[0m \u001b[1m9s\u001b[0m 73ms/step - accuracy: 0.9913 - loss: 0.2840 - val_accuracy: 0.5000 - val_loss: 0.9850 - learning_rate: 1.0000e-04\n",
            "Epoch 3/20\n",
            "\u001b[1m125/125\u001b[0m \u001b[32m━━━━━━━━━━━━━━━━━━━━\u001b[0m\u001b[37m\u001b[0m \u001b[1m0s\u001b[0m 71ms/step - accuracy: 0.9986 - loss: 0.2350\n",
            "Epoch 3: val_loss did not improve from 0.97779\n",
            "\u001b[1m125/125\u001b[0m \u001b[32m━━━━━━━━━━━━━━━━━━━━\u001b[0m\u001b[37m\u001b[0m \u001b[1m10s\u001b[0m 82ms/step - accuracy: 0.9986 - loss: 0.2350 - val_accuracy: 0.5000 - val_loss: 1.0118 - learning_rate: 1.0000e-04\n",
            "Epoch 4/20\n",
            "\u001b[1m125/125\u001b[0m \u001b[32m━━━━━━━━━━━━━━━━━━━━\u001b[0m\u001b[37m\u001b[0m \u001b[1m0s\u001b[0m 71ms/step - accuracy: 0.9983 - loss: 0.2033\n",
            "Epoch 4: val_loss did not improve from 0.97779\n",
            "\u001b[1m125/125\u001b[0m \u001b[32m━━━━━━━━━━━━━━━━━━━━\u001b[0m\u001b[37m\u001b[0m \u001b[1m9s\u001b[0m 75ms/step - accuracy: 0.9983 - loss: 0.2032 - val_accuracy: 0.5000 - val_loss: 1.0653 - learning_rate: 1.0000e-04\n",
            "Epoch 5/20\n",
            "\u001b[1m125/125\u001b[0m \u001b[32m━━━━━━━━━━━━━━━━━━━━\u001b[0m\u001b[37m\u001b[0m \u001b[1m0s\u001b[0m 70ms/step - accuracy: 0.9994 - loss: 0.1790\n",
            "Epoch 5: val_loss improved from 0.97779 to 0.82910, saving model to /content/drive/MyDrive/testing/attacker/best_model.keras\n",
            "\u001b[1m125/125\u001b[0m \u001b[32m━━━━━━━━━━━━━━━━━━━━\u001b[0m\u001b[37m\u001b[0m \u001b[1m18s\u001b[0m 146ms/step - accuracy: 0.9994 - loss: 0.1790 - val_accuracy: 0.5140 - val_loss: 0.8291 - learning_rate: 1.0000e-04\n",
            "Epoch 6/20\n",
            "\u001b[1m125/125\u001b[0m \u001b[32m━━━━━━━━━━━━━━━━━━━━\u001b[0m\u001b[37m\u001b[0m \u001b[1m0s\u001b[0m 68ms/step - accuracy: 0.9983 - loss: 0.1573\n",
            "Epoch 6: val_loss did not improve from 0.82910\n",
            "\u001b[1m125/125\u001b[0m \u001b[32m━━━━━━━━━━━━━━━━━━━━\u001b[0m\u001b[37m\u001b[0m \u001b[1m9s\u001b[0m 73ms/step - accuracy: 0.9983 - loss: 0.1572 - val_accuracy: 0.5040 - val_loss: 1.9077 - learning_rate: 1.0000e-04\n",
            "Epoch 7/20\n",
            "\u001b[1m125/125\u001b[0m \u001b[32m━━━━━━━━━━━━━━━━━━━━\u001b[0m\u001b[37m\u001b[0m \u001b[1m0s\u001b[0m 70ms/step - accuracy: 0.9997 - loss: 0.1349\n",
            "Epoch 7: val_loss improved from 0.82910 to 0.14670, saving model to /content/drive/MyDrive/testing/attacker/best_model.keras\n",
            "\u001b[1m125/125\u001b[0m \u001b[32m━━━━━━━━━━━━━━━━━━━━\u001b[0m\u001b[37m\u001b[0m \u001b[1m20s\u001b[0m 148ms/step - accuracy: 0.9997 - loss: 0.1349 - val_accuracy: 0.9950 - val_loss: 0.1467 - learning_rate: 1.0000e-04\n",
            "Epoch 8/20\n",
            "\u001b[1m125/125\u001b[0m \u001b[32m━━━━━━━━━━━━━━━━━━━━\u001b[0m\u001b[37m\u001b[0m \u001b[1m0s\u001b[0m 70ms/step - accuracy: 0.9990 - loss: 0.1186\n",
            "Epoch 8: val_loss did not improve from 0.14670\n",
            "\u001b[1m125/125\u001b[0m \u001b[32m━━━━━━━━━━━━━━━━━━━━\u001b[0m\u001b[37m\u001b[0m \u001b[1m9s\u001b[0m 75ms/step - accuracy: 0.9990 - loss: 0.1185 - val_accuracy: 0.8470 - val_loss: 0.4287 - learning_rate: 1.0000e-04\n",
            "Epoch 9/20\n",
            "\u001b[1m125/125\u001b[0m \u001b[32m━━━━━━━━━━━━━━━━━━━━\u001b[0m\u001b[37m\u001b[0m \u001b[1m0s\u001b[0m 72ms/step - accuracy: 1.0000 - loss: 0.0994\n",
            "Epoch 9: val_loss improved from 0.14670 to 0.12866, saving model to /content/drive/MyDrive/testing/attacker/best_model.keras\n",
            "\u001b[1m125/125\u001b[0m \u001b[32m━━━━━━━━━━━━━━━━━━━━\u001b[0m\u001b[37m\u001b[0m \u001b[1m21s\u001b[0m 165ms/step - accuracy: 1.0000 - loss: 0.0994 - val_accuracy: 0.9860 - val_loss: 0.1287 - learning_rate: 1.0000e-04\n",
            "Epoch 10/20\n",
            "\u001b[1m125/125\u001b[0m \u001b[32m━━━━━━━━━━━━━━━━━━━━\u001b[0m\u001b[37m\u001b[0m \u001b[1m0s\u001b[0m 70ms/step - accuracy: 0.9989 - loss: 0.0891\n",
            "Epoch 10: val_loss did not improve from 0.12866\n",
            "\u001b[1m125/125\u001b[0m \u001b[32m━━━━━━━━━━━━━━━━━━━━\u001b[0m\u001b[37m\u001b[0m \u001b[1m9s\u001b[0m 74ms/step - accuracy: 0.9989 - loss: 0.0891 - val_accuracy: 0.5000 - val_loss: 7.1335 - learning_rate: 1.0000e-04\n",
            "Epoch 11/20\n",
            "\u001b[1m125/125\u001b[0m \u001b[32m━━━━━━━━━━━━━━━━━━━━\u001b[0m\u001b[37m\u001b[0m \u001b[1m0s\u001b[0m 73ms/step - accuracy: 0.9980 - loss: 0.0809\n",
            "Epoch 11: val_loss did not improve from 0.12866\n",
            "\u001b[1m125/125\u001b[0m \u001b[32m━━━━━━━━━━━━━━━━━━━━\u001b[0m\u001b[37m\u001b[0m \u001b[1m10s\u001b[0m 78ms/step - accuracy: 0.9980 - loss: 0.0808 - val_accuracy: 0.6420 - val_loss: 0.7688 - learning_rate: 1.0000e-04\n",
            "Epoch 12/20\n",
            "\u001b[1m125/125\u001b[0m \u001b[32m━━━━━━━━━━━━━━━━━━━━\u001b[0m\u001b[37m\u001b[0m \u001b[1m0s\u001b[0m 70ms/step - accuracy: 0.9990 - loss: 0.0683\n",
            "Epoch 12: val_loss did not improve from 0.12866\n",
            "\u001b[1m125/125\u001b[0m \u001b[32m━━━━━━━━━━━━━━━━━━━━\u001b[0m\u001b[37m\u001b[0m \u001b[1m9s\u001b[0m 74ms/step - accuracy: 0.9991 - loss: 0.0683 - val_accuracy: 0.8460 - val_loss: 0.3910 - learning_rate: 1.0000e-04\n",
            "Epoch 13/20\n",
            "\u001b[1m125/125\u001b[0m \u001b[32m━━━━━━━━━━━━━━━━━━━━\u001b[0m\u001b[37m\u001b[0m \u001b[1m0s\u001b[0m 69ms/step - accuracy: 1.0000 - loss: 0.0550\n",
            "Epoch 13: ReduceLROnPlateau reducing learning rate to 4.999999873689376e-05.\n",
            "\n",
            "Epoch 13: val_loss did not improve from 0.12866\n",
            "\u001b[1m125/125\u001b[0m \u001b[32m━━━━━━━━━━━━━━━━━━━━\u001b[0m\u001b[37m\u001b[0m \u001b[1m9s\u001b[0m 73ms/step - accuracy: 1.0000 - loss: 0.0549 - val_accuracy: 0.9800 - val_loss: 0.1576 - learning_rate: 1.0000e-04\n",
            "Epoch 14/20\n",
            "\u001b[1m125/125\u001b[0m \u001b[32m━━━━━━━━━━━━━━━━━━━━\u001b[0m\u001b[37m\u001b[0m \u001b[1m0s\u001b[0m 69ms/step - accuracy: 1.0000 - loss: 0.0463\n",
            "Epoch 14: val_loss improved from 0.12866 to 0.08258, saving model to /content/drive/MyDrive/testing/attacker/best_model.keras\n",
            "\u001b[1m125/125\u001b[0m \u001b[32m━━━━━━━━━━━━━━━━━━━━\u001b[0m\u001b[37m\u001b[0m \u001b[1m22s\u001b[0m 168ms/step - accuracy: 1.0000 - loss: 0.0463 - val_accuracy: 0.9960 - val_loss: 0.0826 - learning_rate: 5.0000e-05\n",
            "Epoch 15/20\n",
            "\u001b[1m125/125\u001b[0m \u001b[32m━━━━━━━━━━━━━━━━━━━━\u001b[0m\u001b[37m\u001b[0m \u001b[1m0s\u001b[0m 70ms/step - accuracy: 1.0000 - loss: 0.0421\n",
            "Epoch 15: val_loss improved from 0.08258 to 0.07488, saving model to /content/drive/MyDrive/testing/attacker/best_model.keras\n",
            "\u001b[1m125/125\u001b[0m \u001b[32m━━━━━━━━━━━━━━━━━━━━\u001b[0m\u001b[37m\u001b[0m \u001b[1m39s\u001b[0m 155ms/step - accuracy: 1.0000 - loss: 0.0421 - val_accuracy: 0.9870 - val_loss: 0.0749 - learning_rate: 5.0000e-05\n",
            "Epoch 16/20\n",
            "\u001b[1m125/125\u001b[0m \u001b[32m━━━━━━━━━━━━━━━━━━━━\u001b[0m\u001b[37m\u001b[0m \u001b[1m0s\u001b[0m 69ms/step - accuracy: 1.0000 - loss: 0.0381\n",
            "Epoch 16: val_loss improved from 0.07488 to 0.04328, saving model to /content/drive/MyDrive/testing/attacker/best_model.keras\n",
            "\u001b[1m125/125\u001b[0m \u001b[32m━━━━━━━━━━━━━━━━━━━━\u001b[0m\u001b[37m\u001b[0m \u001b[1m22s\u001b[0m 177ms/step - accuracy: 1.0000 - loss: 0.0381 - val_accuracy: 0.9990 - val_loss: 0.0433 - learning_rate: 5.0000e-05\n",
            "Epoch 17/20\n",
            "\u001b[1m125/125\u001b[0m \u001b[32m━━━━━━━━━━━━━━━━━━━━\u001b[0m\u001b[37m\u001b[0m \u001b[1m0s\u001b[0m 70ms/step - accuracy: 1.0000 - loss: 0.0351\n",
            "Epoch 17: val_loss did not improve from 0.04328\n",
            "\u001b[1m125/125\u001b[0m \u001b[32m━━━━━━━━━━━━━━━━━━━━\u001b[0m\u001b[37m\u001b[0m \u001b[1m9s\u001b[0m 74ms/step - accuracy: 1.0000 - loss: 0.0351 - val_accuracy: 0.9660 - val_loss: 0.1313 - learning_rate: 5.0000e-05\n",
            "Epoch 18/20\n",
            "\u001b[1m125/125\u001b[0m \u001b[32m━━━━━━━━━━━━━━━━━━━━\u001b[0m\u001b[37m\u001b[0m \u001b[1m0s\u001b[0m 73ms/step - accuracy: 1.0000 - loss: 0.0326\n",
            "Epoch 18: val_loss improved from 0.04328 to 0.03656, saving model to /content/drive/MyDrive/testing/attacker/best_model.keras\n",
            "\u001b[1m125/125\u001b[0m \u001b[32m━━━━━━━━━━━━━━━━━━━━\u001b[0m\u001b[37m\u001b[0m \u001b[1m19s\u001b[0m 156ms/step - accuracy: 1.0000 - loss: 0.0326 - val_accuracy: 0.9980 - val_loss: 0.0366 - learning_rate: 5.0000e-05\n",
            "Epoch 19/20\n",
            "\u001b[1m125/125\u001b[0m \u001b[32m━━━━━━━━━━━━━━━━━━━━\u001b[0m\u001b[37m\u001b[0m \u001b[1m0s\u001b[0m 69ms/step - accuracy: 1.0000 - loss: 0.0299\n",
            "Epoch 19: val_loss did not improve from 0.03656\n",
            "\u001b[1m125/125\u001b[0m \u001b[32m━━━━━━━━━━━━━━━━━━━━\u001b[0m\u001b[37m\u001b[0m \u001b[1m9s\u001b[0m 74ms/step - accuracy: 1.0000 - loss: 0.0299 - val_accuracy: 0.9430 - val_loss: 0.1530 - learning_rate: 5.0000e-05\n",
            "Epoch 20/20\n",
            "\u001b[1m125/125\u001b[0m \u001b[32m━━━━━━━━━━━━━━━━━━━━\u001b[0m\u001b[37m\u001b[0m \u001b[1m0s\u001b[0m 74ms/step - accuracy: 0.9982 - loss: 0.0326\n",
            "Epoch 20: val_loss did not improve from 0.03656\n",
            "\u001b[1m125/125\u001b[0m \u001b[32m━━━━━━━━━━━━━━━━━━━━\u001b[0m\u001b[37m\u001b[0m \u001b[1m10s\u001b[0m 78ms/step - accuracy: 0.9982 - loss: 0.0326 - val_accuracy: 0.9550 - val_loss: 0.1572 - learning_rate: 5.0000e-05\n",
            "Restoring model weights from the end of the best epoch: 18.\n"
          ]
        },
        {
          "output_type": "display_data",
          "data": {
            "text/plain": [
              "<Figure size 1200x500 with 2 Axes>"
            ],
            "image/png": "[encoded data removed]"
          },
          "metadata": {}
        }
      ]
    },
    {
      "cell_type": "code",
      "source": [
        "model= load_model(\"/content/drive/MyDrive/testing/attacker/grayscale_steganalysis_model.h5\")\n",
        "def stego_or_real(image):\n",
        "  image=image.astype(np.float32)/255.0\n",
        "  prediction=model.predict(image)\n",
        "  predicted_class = np.argmax(prediction, axis=1)[0]\n",
        "  return \"Cover\" if predicted_class == 0 else \"Stego\"\n",
        "\n",
        "test_image=generator.predict([cover_images[600:601],binary_messages[600:601]])\n",
        "result = stego_or_real(test_image)\n",
        "print(\"Prediction:\", result)"
      ],
      "metadata": {
        "colab": {
          "base_uri": "https://localhost:8080/"
        },
        "id": "gkosuzhkJZUR",
        "outputId": "e13588b0-055c-408a-f057-e1b051bc1b54"
      },
      "execution_count": null,
      "outputs": [
        {
          "output_type": "stream",
          "name": "stderr",
          "text": [
            "WARNING:absl:Compiled the loaded model, but the compiled metrics have yet to be built. `model.compile_metrics` will be empty until you train or evaluate the model.\n"
          ]
        },
        {
          "output_type": "stream",
          "name": "stdout",
          "text": [
            "\u001b[1m1/1\u001b[0m \u001b[32m━━━━━━━━━━━━━━━━━━━━\u001b[0m\u001b[37m\u001b[0m \u001b[1m1s\u001b[0m 1s/step\n",
            "\u001b[1m1/1\u001b[0m \u001b[32m━━━━━━━━━━━━━━━━━━━━\u001b[0m\u001b[37m\u001b[0m \u001b[1m1s\u001b[0m 1s/step\n",
            "Prediction: Cover\n"
          ]
        }
      ]
    },
    {
      "cell_type": "code",
      "source": [
        "import numpy as np\n",
        "import struct\n",
        "from faker import Faker\n",
        "from reedsolo import RSCodec\n",
        "import tensorflow as tf\n",
        "\n",
        "fake = Faker()\n",
        "MAX_BITS = 16384  # Total bits available for embedding\n",
        "\n",
        "# Initialize Reed-Solomon codec\n",
        "# Let's assume we want to correct up to 100 byte errors (800 bit errors)\n",
        "RS_SYMBOL_SIZE = 8  # 8 bits per symbol (byte)\n",
        "RS_ECC_SYMBOLS = 200  # Corrects up to 100 byte errors\n",
        "rs = RSCodec(RS_ECC_SYMBOLS, nsize=255)  # n = 255 bytes per codeword\n",
        "\n",
        "def generate_patient_info():\n",
        "    \"\"\"Generate and pack structured patient data into binary format.\"\"\"\n",
        "    patient_id = int(fake.random_number(digits=8))\n",
        "    age = fake.random_int(min=18, max=99)\n",
        "    gender = fake.random_element(elements=(\"M\", \"F\", \"O\")).encode()\n",
        "    blood_type = fake.random_element(elements=(\"A+\", \"A-\", \"B+\", \"B-\", \"O+\", \"O-\", \"AB+\", \"AB-\")).encode()\n",
        "    allergies = \",\".join(fake.words(3))[:30].encode()\n",
        "    chronic_conditions = \",\".join(fake.words(5))[:50].encode()\n",
        "    medications = \",\".join(fake.sentences(3))[:80].encode()\n",
        "    treatments = \",\".join(fake.sentences(3))[:80].encode()\n",
        "    visits = \",\".join([fake.date_this_decade().isoformat() for _ in range(3)])[:50].encode()\n",
        "    hemoglobin = round(fake.pyfloat(min_value=10.0, max_value=18.0, right_digits=1), 1)\n",
        "    cholesterol = round(fake.pyfloat(min_value=100.0, max_value=250.0, right_digits=1), 1)\n",
        "    systolic_bp = fake.random_int(90, 140)\n",
        "    diastolic_bp = fake.random_int(60, 90)\n",
        "    heart_rate = fake.random_int(60, 100)\n",
        "\n",
        "    # Pack data\n",
        "    binary_data = struct.pack(\n",
        "        \">I B c 2s 30s 50s 80s 80s 50s f f H H H\",\n",
        "        patient_id, age, gender, blood_type,\n",
        "        allergies, chronic_conditions, medications, treatments, visits,\n",
        "        hemoglobin, cholesterol, systolic_bp, diastolic_bp, heart_rate\n",
        "    )\n",
        "\n",
        "    return binary_data\n",
        "\n",
        "def encode_message(binary_data):\n",
        "    \"\"\"Encode binary data with Reed-Solomon ECC.\"\"\"\n",
        "    # Calculate available message size after ECC overhead\n",
        "    max_bytes = MAX_BITS // 8  # 16384 bits = 2048 bytes\n",
        "    ecc_bytes = RS_ECC_SYMBOLS  # 200 bytes for ECC\n",
        "    max_message_bytes = max_bytes - ecc_bytes  # 2048 - 200 = 1848 bytes\n",
        "    # Reduce the message size if it exceeds the maximum allowed size\n",
        "    binary_data = binary_data[:max_message_bytes]\n",
        "\n",
        "    # Ensure binary_data fits within max_message_bytes\n",
        "    if len(binary_data) > max_message_bytes:\n",
        "        raise ValueError(f\"Message too large: {len(binary_data)} bytes exceeds {max_message_bytes} bytes\")\n",
        "\n",
        "    # Pad binary_data to max_message_bytes if needed\n",
        "    binary_data = binary_data.ljust(max_message_bytes, b\"\\0\")\n",
        "\n",
        "    # Apply Reed-Solomon encoding\n",
        "    encoded_data = rs.encode(binary_data)\n",
        "\n",
        "    # Convert to bit array\n",
        "    bit_array = np.unpackbits(np.frombuffer(encoded_data, dtype=np.uint8))\n",
        "\n",
        "    # Ensure bit array fits MAX_BITS\n",
        "    if len(bit_array) > MAX_BITS:\n",
        "        bit_array = bit_array[:MAX_BITS]\n",
        "    elif len(bit_array) < MAX_BITS:\n",
        "        bit_array = np.pad(bit_array, (0, MAX_BITS - len(bit_array)), \"constant\")\n",
        "\n",
        "    return bit_array\n",
        "\n",
        "def decode_message(bit_array):\n",
        "    \"\"\"Decode bit array with Reed-Solomon ECC to recover original message.\"\"\"\n",
        "    # Convert bit array to bytes\n",
        "    byte_array = np.packbits(bit_array)\n",
        "\n",
        "    # Decode with Reed-Solomon\n",
        "    try:\n",
        "        decoded_data = rs.decode(byte_array[:2048])[0]  # Get only the message part\n",
        "    except Exception as e:\n",
        "        print(f\"Reed-Solomon decoding failed: {e}\")\n",
        "        return None\n",
        "\n",
        "    return decoded_data\n",
        "\n",
        "def decode_patient_info(binary_data):\n",
        "    \"\"\"Decode binary data back to structured patient info.\"\"\"\n",
        "    if binary_data is None:\n",
        "        return None\n",
        "    try:\n",
        "        buffer_size = struct.calcsize(\">I B c 2s 30s 50s 80s 80s 50s f f H H H\")\n",
        "        unpacked_data = struct.unpack(\">I B c 2s 30s 50s 80s 80s 50s f f H H H\", binary_data[:buffer_size])\n",
        "        patient_info = {\n",
        "            \"patient_id\": unpacked_data[0],\n",
        "            \"age\": unpacked_data[1],\n",
        "            \"gender\": unpacked_data[2].decode(),\n",
        "            \"blood_type\": unpacked_data[3].decode(),\n",
        "            \"allergies\": unpacked_data[4].decode().strip(),\n",
        "            \"chronic_conditions\": unpacked_data[5].decode().strip(),\n",
        "            \"current_medications\": unpacked_data[6].decode().strip(),\n",
        "            \"recent_treatments\": unpacked_data[7].decode().strip(),\n",
        "            \"hospital_visits\": unpacked_data[8].decode().strip(),\n",
        "            \"lab_results\": {\n",
        "                \"hemoglobin\": unpacked_data[9],\n",
        "                \"cholesterol\": unpacked_data[10],\n",
        "                \"blood_pressure\": f\"{unpacked_data[11]}/{unpacked_data[12]}\",\n",
        "                \"heart_rate\": unpacked_data[13]\n",
        "            }\n",
        "        }\n",
        "        return patient_info\n",
        "    except Exception as e:\n",
        "        print(f\"Error unpacking patient info: {e}\")\n",
        "        return None"
      ],
      "metadata": {
        "id": "f1A2xzcCMjeZ"
      },
      "execution_count": null,
      "outputs": []
    },
    {
      "cell_type": "code",
      "source": [
        "num_images = len(cover_images1)  # e.g., 2500\n",
        "binary_messages = []\n",
        "for _ in range(num_images):\n",
        "    binary_data = generate_patient_info()\n",
        "    encoded_bits = encode_message(binary_data)\n",
        "    binary_messages.append(encoded_bits)\n",
        "\n",
        "binary_messages = np.array(binary_messages, dtype=np.uint8)\n",
        "print(f\"✅ Created {len(binary_messages)} messages, each {len(binary_messages[0])} bits long.\")\n",
        "print(binary_messages.shape)"
      ],
      "metadata": {
        "colab": {
          "base_uri": "https://localhost:8080/"
        },
        "id": "cvdv6iNNiFyw",
        "outputId": "1efa4700-29de-42ee-f301-d7a2486322bf"
      },
      "execution_count": null,
      "outputs": [
        {
          "output_type": "stream",
          "name": "stdout",
          "text": [
            "✅ Created 2500 messages, each 16384 bits long.\n",
            "(2500, 16384)\n"
          ]
        }
      ]
    },
    {
      "cell_type": "code",
      "source": [
        "def full_pipeline_test(generator, extractor, input_image):\n",
        "    # Step 1: Generate binary message\n",
        "    patient_binary = generate_patient_info()\n",
        "\n",
        "    # Step 2: RS encode\n",
        "    encoded_bits = encode_message(patient_binary)\n",
        "\n",
        "    # Step 3: Convert to tensor (if needed for your generator)\n",
        "    encoded_tensor = tf.convert_to_tensor(encoded_bits.reshape(1, -1), dtype=tf.float32)\n",
        "\n",
        "    # Step 4: Generate stego image using the generator\n",
        "    input_image_tensor = tf.convert_to_tensor(input_image, dtype=tf.float32)\n",
        "    input_image_tensor = tf.expand_dims(input_image_tensor, axis=0)  # shape (1, H, W, C)\n",
        "    stego_image = generator([input_image_tensor, encoded_tensor], training=False)\n",
        "\n",
        "    # Step 5: Extract message using the extractor\n",
        "    extracted_bits = extractor(stego_image, training=False)\n",
        "    bit_errors = np.sum(np.abs(encoded_bits - extracted_bits))\n",
        "    print(f\"🔎 Bit errors: {bit_errors} / {MAX_BITS}\")\n",
        "    extracted_bits = tf.squeeze(extracted_bits).numpy()\n",
        "\n",
        "    extracted_bits = np.round(extracted_bits).astype(np.uint8)  # binarize output\n",
        "\n",
        "\n",
        "    # Step 6: Decode using Reed-Solomon\n",
        "    decoded_binary = decode_message(extracted_bits)\n",
        "    decoded_info = decode_patient_info(decoded_binary)\n",
        "\n",
        "    # Step 7: Compare results\n",
        "    if decoded_binary and decoded_binary[:len(patient_binary)] == patient_binary:\n",
        "        print(\"✅ Message recovered successfully!\")\n",
        "    else:\n",
        "        print(\"❌ Message recovery failed or partially decoded.\")\n",
        "        print(\"📋 Decoded info (if any):\", decoded_info)\n",
        "\n",
        "full_pipeline_test(generator,extractor,cover_images1[2000])"
      ],
      "metadata": {
        "colab": {
          "base_uri": "https://localhost:8080/"
        },
        "id": "CsjieJfqz-wr",
        "outputId": "03f9f855-12f7-424a-efd4-e259e6241434"
      },
      "execution_count": null,
      "outputs": [
        {
          "output_type": "stream",
          "name": "stdout",
          "text": [
            "🔎 Bit errors: 5708.0947265625 / 16384\n",
            "Reed-Solomon decoding failed: Too many (or few) errors found by Chien Search for the errata locator polynomial!\n",
            "❌ Message recovery failed or partially decoded.\n",
            "📋 Decoded info (if any): None\n"
          ]
        }
      ]
    },
    {
      "cell_type": "code",
      "source": [
        "import numpy as np\n",
        "import matplotlib.pyplot as plt\n",
        "from sklearn.metrics import roc_curve, auc\n",
        "\n",
        "# Simulate data for a random classifier (50% accuracy)\n",
        "np.random.seed(42)\n",
        "n_samples = 100\n",
        "\n",
        "# True labels: 0 for cover images, 1 for stego images (random split)\n",
        "true_labels = np.random.randint(0, 2, n_samples)\n",
        "\n",
        "# Predicted probabilities: random values between 0 and 1 (no discriminative power)\n",
        "predicted_probs = np.random.rand(n_samples)\n",
        "\n",
        "# Compute ROC curve and ROC area\n",
        "fpr, tpr, _ = roc_curve(true_labels, predicted_probs)\n",
        "roc_auc = auc(fpr, tpr)\n",
        "\n",
        "# Plot ROC curve\n",
        "plt.figure(figsize=(8, 6))\n",
        "plt.plot(fpr, tpr, color='darkorange', lw=2, label=f'ROC curve (AUC = {roc_auc:.2f})')\n",
        "plt.plot([0, 1], [0, 1], color='navy', lw=2, linestyle='--', label='Random Guess (AUC = 0.5)')\n",
        "plt.xlim([0.0, 1.0])\n",
        "plt.ylim([0.0, 1.05])\n",
        "plt.xlabel('False Positive Rate')\n",
        "plt.ylabel('True Positive Rate')\n",
        "plt.title('ROC Curve for 50% Accuracy')\n",
        "plt.legend(loc=\"lower right\")\n",
        "plt.grid(True)\n",
        "plt.show()\n",
        "\n",
        "print(f\"Approximate AUC: {roc_auc:.2f}\")"
      ],
      "metadata": {
        "id": "iVWjlg5l124m",
        "colab": {
          "base_uri": "https://localhost:8080/",
          "height": 582
        },
        "outputId": "73b925c1-97c0-4053-d60a-0f9b112e054d"
      },
      "execution_count": null,
      "outputs": [
        {
          "output_type": "display_data",
          "data": {
            "text/plain": [
              "<Figure size 800x600 with 1 Axes>"
            ],
            "image/png": "[encoded data removed]"
          },
          "metadata": {}
        },
        {
          "output_type": "stream",
          "name": "stdout",
          "text": [
            "Approximate AUC: 0.51\n"
          ]
        }
      ]
    },
    {
      "cell_type": "code",
      "source": [
        "%%writefile content/drive/MyDrive/CIP/app.py\n",
        "import pandas as pd\n",
        "import streamlit as st\n",
        "from PIL import Image\n",
        "import numpy as np\n",
        "import tensorflow as tf\n",
        "import struct\n",
        "from faker import Faker\n",
        "from keras.models import load_model\n",
        "import io\n",
        "import time\n",
        "from matplotlib import pyplot as plt\n",
        "\n",
        "# Set page config for better layout\n",
        "st.set_page_config(\n",
        "    page_title=\"GAN Steganography for Medical Data\",\n",
        "    page_icon=\"🖼️\",\n",
        "    layout=\"wide\"\n",
        ")\n",
        "\n",
        "# Load models with progress and error handling\n",
        "@st.cache_resource(show_spinner=\"Loading GAN models...\")\n",
        "def load_models():\n",
        "    try:\n",
        "        generator = load_model('generator_model_updated_new (4).keras')\n",
        "        discriminator = load_model('discriminator_model_updated_new (3).keras')\n",
        "        extractor = load_model('extractor_model_updated_new.keras')\n",
        "        return generator, discriminator, extractor\n",
        "    except Exception as e:\n",
        "        st.error(f\"Failed to load models: {str(e)}\")\n",
        "        st.stop()\n",
        "\n",
        "generator, discriminator, extractor = load_models()\n",
        "\n",
        "# Global constants\n",
        "MAX_BITS = 16384\n",
        "fake = Faker()\n",
        "\n",
        "# Session state setup\n",
        "if \"cover_image\" not in st.session_state:\n",
        "    st.session_state.cover_image = None\n",
        "if \"stego_image\" not in st.session_state:\n",
        "    st.session_state.stego_image = None\n",
        "if \"binary_message\" not in st.session_state:\n",
        "    st.session_state.binary_message = None\n",
        "if \"patient_info\" not in st.session_state:\n",
        "    st.session_state.patient_info = None\n",
        "\n",
        "# Functions with improved error handling and performance\n",
        "def preprocess_image(img):\n",
        "    try:\n",
        "        img = img.convert(\"L\").resize((256, 256))  # Grayscale and resize\n",
        "        img_array = np.array(img) / 255.0\n",
        "        img_array = np.expand_dims(img_array, axis=-1)\n",
        "        return img_array\n",
        "    except Exception as e:\n",
        "        st.error(f\"Image preprocessing failed: {str(e)}\")\n",
        "        return None\n",
        "\n",
        "def generate_stego_image(cover_image, message):\n",
        "    try:\n",
        "        with st.spinner(\"Generating stego image...\"):\n",
        "            cover_image = np.expand_dims(cover_image, axis=0)\n",
        "            message = message.reshape(1, -1)\n",
        "            stego_image = generator.predict([cover_image, message], verbose=0)\n",
        "        return np.squeeze(stego_image, axis=0)\n",
        "    except Exception as e:\n",
        "        st.error(f\"Stego image generation failed: {str(e)}\")\n",
        "        return None\n",
        "\n",
        "def test_stego_image(stego_image):\n",
        "    try:\n",
        "        with st.spinner(\"Analyzing image...\"):\n",
        "            stego_image = np.expand_dims(stego_image / 255.0, axis=0)\n",
        "            prediction = discriminator.predict(stego_image, verbose=0)\n",
        "            label = \"Stego\" if prediction[0][0] > 0.5 else \"Real\"\n",
        "            confidence = prediction[0][0]\n",
        "            return label, confidence\n",
        "    except Exception as e:\n",
        "        st.error(f\"Discrimination failed: {str(e)}\")\n",
        "        return \"Error\", 0.0\n",
        "\n",
        "def extract_message(stego_image):\n",
        "    try:\n",
        "        with st.spinner(\"Extracting message...\"):\n",
        "            stego_image = np.expand_dims(stego_image / 255.0, axis=0)\n",
        "            extracted = extractor.predict(stego_image, verbose=0)\n",
        "            extracted = np.round(extracted).astype(np.uint8).squeeze()\n",
        "            return extracted\n",
        "    except Exception as e:\n",
        "        st.error(f\"Message extraction failed: {str(e)}\")\n",
        "        return None\n",
        "\n",
        "def generate_patient_info():\n",
        "    try:\n",
        "        patient_id = int(fake.random_number(digits=8))\n",
        "        age = fake.random_int(min=18, max=99)\n",
        "        gender = fake.random_element(elements=(\"M\", \"F\", \"O\")).encode()\n",
        "        blood_type = fake.random_element(elements=(\"A+\", \"A-\", \"B+\", \"B-\", \"O+\", \"O-\", \"AB+\", \"AB-\")).encode()\n",
        "        allergies = \",\".join(fake.words(3))[:30].encode()\n",
        "        chronic_conditions = \",\".join(fake.words(5))[:50].encode()\n",
        "        medications = \",\".join(fake.sentences(3))[:80].encode()\n",
        "        treatments = \",\".join(fake.sentences(3))[:80].encode()\n",
        "        visits = \",\".join([fake.date_this_decade().isoformat() for _ in range(3)])[:50].encode()\n",
        "        hemoglobin = round(fake.pyfloat(min_value=10.0, max_value=18.0, right_digits=1), 1)\n",
        "        cholesterol = round(fake.pyfloat(min_value=100.0, max_value=250.0, right_digits=1), 1)\n",
        "        systolic_bp = fake.random_int(90, 140)\n",
        "        diastolic_bp = fake.random_int(60, 90)\n",
        "        heart_rate = fake.random_int(60, 100)\n",
        "\n",
        "        binary_data = struct.pack(\n",
        "            \">I B c 2s 30s 50s 80s 80s 50s f f H H H\",\n",
        "            patient_id, age, gender, blood_type,\n",
        "            allergies, chronic_conditions, medications, treatments, visits,\n",
        "            hemoglobin, cholesterol, systolic_bp, diastolic_bp, heart_rate\n",
        "        )\n",
        "\n",
        "        # Store the patient info for display\n",
        "        patient_info = {\n",
        "            \"patient_id\": patient_id,\n",
        "            \"age\": age,\n",
        "            \"gender\": gender.decode(),\n",
        "            \"blood_type\": blood_type.decode(),\n",
        "            \"allergies\": allergies.decode().strip(),\n",
        "            \"chronic_conditions\": chronic_conditions.decode().strip(),\n",
        "            \"current_medications\": medications.decode().strip(),\n",
        "            \"recent_treatments\": treatments.decode().strip(),\n",
        "            \"hospital_visits\": visits.decode().strip(),\n",
        "            \"lab_results\": {\n",
        "                \"hemoglobin\": hemoglobin,\n",
        "                \"cholesterol\": cholesterol,\n",
        "                \"blood_pressure\": f\"{systolic_bp}/{diastolic_bp}\",\n",
        "                \"heart_rate\": heart_rate\n",
        "            }\n",
        "        }\n",
        "\n",
        "        st.session_state.patient_info = patient_info\n",
        "\n",
        "        bit_array = np.unpackbits(np.frombuffer(binary_data, dtype=np.uint8))\n",
        "        return np.pad(bit_array, (0, max(0, MAX_BITS - len(bit_array))), 'constant')\n",
        "    except Exception as e:\n",
        "        st.error(f\"Failed to generate patient info: {str(e)}\")\n",
        "        return None\n",
        "\n",
        "def decode_patient_info(binary_message):\n",
        "    try:\n",
        "        byte_array = np.packbits(binary_message)\n",
        "        fmt = \">I B c 2s 30s 50s 80s 80s 50s f f H H H\"\n",
        "        buffer_size = struct.calcsize(fmt)\n",
        "        unpacked = struct.unpack(fmt, byte_array[:buffer_size])\n",
        "        return {\n",
        "            \"patient_id\": unpacked[0],\n",
        "            \"age\": unpacked[1],\n",
        "            \"gender\": unpacked[2].decode(),\n",
        "            \"blood_type\": unpacked[3].decode(),\n",
        "            \"allergies\": unpacked[4].decode().strip(),\n",
        "            \"chronic_conditions\": unpacked[5].decode().strip(),\n",
        "            \"current_medications\": unpacked[6].decode().strip(),\n",
        "            \"recent_treatments\": unpacked[7].decode().strip(),\n",
        "            \"hospital_visits\": unpacked[8].decode().strip(),\n",
        "            \"lab_results\": {\n",
        "                \"hemoglobin\": unpacked[9],\n",
        "                \"cholesterol\": unpacked[10],\n",
        "                \"blood_pressure\": f\"{unpacked[11]}/{unpacked[12]}\",\n",
        "                \"heart_rate\": unpacked[13]\n",
        "            }\n",
        "        }\n",
        "    except Exception as e:\n",
        "        st.error(f\"Failed to decode patient info: {str(e)}\")\n",
        "        return None\n",
        "\n",
        "def display_image_comparison(original, stego):\n",
        "    fig, axes = plt.subplots(1, 2, figsize=(10, 5))\n",
        "    axes[0].imshow(original.squeeze(), cmap='gray')\n",
        "    axes[0].set_title('Original Image')\n",
        "    axes[0].axis('off')\n",
        "    axes[1].imshow(stego.squeeze(), cmap='gray')\n",
        "    axes[1].set_title('Stego Image')\n",
        "    axes[1].axis('off')\n",
        "    st.pyplot(fig)\n",
        "\n",
        "def image_to_bytes(image_array):\n",
        "    img_array_uint8 = (image_array.squeeze() * 255).astype(np.uint8)\n",
        "    img = Image.fromarray(img_array_uint8, mode='L')  # 'L' for grayscale\n",
        "    img_byte_arr = io.BytesIO()\n",
        "    img.save(img_byte_arr, format='PNG')\n",
        "    return img_byte_arr.getvalue()\n",
        "\n",
        "# Streamlit UI\n",
        "st.title(\"🖼️ GAN-based Medical Image Steganography\")\n",
        "st.markdown(\"\"\"\n",
        "    This tool demonstrates GAN-based steganography for embedding patient medical records into images.\n",
        "    The system uses a generator to create stego images, a discriminator to detect them, and an extractor to retrieve hidden data.\n",
        "\"\"\")\n",
        "\n",
        "# Sidebar with model info\n",
        "with st.sidebar:\n",
        "    st.header(\"Model Information\")\n",
        "    st.metric(\"Generator Loss\", \"0.0027\")\n",
        "    st.metric(\"Discriminator Accuracy\", \"49.51%\")\n",
        "    st.metric(\"Message Retrieval Accuracy\", \"96.81%\")\n",
        "    st.metric(\"BER Loss\", \"0.0401\")\n",
        "\n",
        "    st.header(\"Operations\")\n",
        "    tab = st.radio(\"Select Operation\", [\"Embed Message\", \"Discriminate Image\", \"Extract Message\"])\n",
        "\n",
        "    st.markdown(\"---\")\n",
        "    st.info(\"\"\"\n",
        "        **Note:**\n",
        "        - Upload a grayscale image for best results\n",
        "        - System currently supports 2KB of embedded data\n",
        "    \"\"\")\n",
        "if st.sidebar.button(\"Reset All\"):\n",
        "    for key in list(st.session_state.keys()):\n",
        "        del st.session_state[key]\n",
        "    st.rerun()\n",
        "# Main content area\n",
        "if tab == \"Embed Message\":\n",
        "    st.header(\"Embed Patient Data into Image\")\n",
        "\n",
        "    col1, col2 = st.columns(2)\n",
        "\n",
        "    with col1:\n",
        "        st.subheader(\"1. Upload Cover Image\")\n",
        "        uploaded_image = st.file_uploader(\"Choose an image file\", type=[\"jpg\", \"jpeg\", \"png\"], key=\"uploader\")\n",
        "\n",
        "        if uploaded_image:\n",
        "            st.session_state.cover_image = Image.open(uploaded_image)\n",
        "            st.image(st.session_state.cover_image, caption=\"Uploaded Cover Image\", use_container_width=True)\n",
        "\n",
        "    # Add this in the \"Embed Message\" section, alongside the random generation button\n",
        "    with col2:\n",
        "        st.subheader(\"2. Generate Patient Data\")\n",
        "\n",
        "        # Existing random generation button\n",
        "        if st.button(\"Generate Random Patient Record\"):\n",
        "            st.session_state.binary_message = generate_patient_info()\n",
        "            if st.session_state.patient_info:\n",
        "                st.success(\"Patient data generated!\")\n",
        "                patient_info_df = pd.DataFrame([st.session_state.patient_info])\n",
        "                patient_info_df = patient_info_df.astype(str)\n",
        "                st.json(patient_info_df.to_dict(orient=\"records\")[0])\n",
        "\n",
        "        # New form for manual input\n",
        "        with st.expander(\"Or enter patient details manually\", expanded=False):\n",
        "            with st.form(\"patient_form\"):\n",
        "                st.markdown(\"**Patient Demographics**\")\n",
        "                patient_id = st.number_input(\"Patient ID\", min_value=10000000, max_value=99999999, value=12345678)\n",
        "                age = st.number_input(\"Age\", min_value=0, max_value=120, value=30)\n",
        "                gender = st.selectbox(\"Gender\", [\"M\", \"F\", \"O\"])\n",
        "                blood_type = st.selectbox(\"Blood Type\", [\"A+\", \"A-\", \"B+\", \"B-\", \"O+\", \"O-\", \"AB+\", \"AB-\"])\n",
        "\n",
        "                st.markdown(\"**Medical Information**\")\n",
        "                allergies = st.text_input(\"Allergies\", \"None\")\n",
        "                chronic_conditions = st.text_input(\"Chronic Conditions\", \"None\")\n",
        "                medications = st.text_area(\"Current Medications\", \"None\")\n",
        "                treatments = st.text_area(\"Recent Treatments\", \"None\")\n",
        "                visits = st.text_input(\"Recent Hospital Visits (comma separated dates)\", \"2023-01-15,2023-05-20\")\n",
        "\n",
        "                st.markdown(\"**Lab Results**\")\n",
        "                col1, col2 = st.columns(2)\n",
        "                with col1:\n",
        "                    hemoglobin = st.number_input(\"Hemoglobin (g/dL)\", min_value=5.0, max_value=20.0, value=12.5, step=0.1)\n",
        "                    systolic_bp = st.number_input(\"Systolic BP\", min_value=70, max_value=200, value=120)\n",
        "                with col2:\n",
        "                    cholesterol = st.number_input(\"Cholesterol (mg/dL)\", min_value=50.0, max_value=300.0, value=180.0, step=0.1)\n",
        "                    diastolic_bp = st.number_input(\"Diastolic BP\", min_value=40, max_value=120, value=80)\n",
        "                heart_rate = st.number_input(\"Heart Rate (bpm)\", min_value=40, max_value=150, value=72)\n",
        "\n",
        "                submitted = st.form_submit_button(\"Use This Patient Data\")\n",
        "\n",
        "                if submitted:\n",
        "                    # Create the patient info dictionary\n",
        "                    patient_info = {\n",
        "                        \"patient_id\": patient_id,\n",
        "                        \"age\": age,\n",
        "                        \"gender\": gender,\n",
        "                        \"blood_type\": blood_type,\n",
        "                        \"allergies\": allergies,\n",
        "                        \"chronic_conditions\": chronic_conditions,\n",
        "                        \"current_medications\": medications,\n",
        "                        \"recent_treatments\": treatments,\n",
        "                        \"hospital_visits\": visits,\n",
        "                        \"lab_results\": {\n",
        "                            \"hemoglobin\": float(hemoglobin),\n",
        "                            \"cholesterol\": float(cholesterol),\n",
        "                            \"blood_pressure\": f\"{systolic_bp}/{diastolic_bp}\",\n",
        "                            \"heart_rate\": heart_rate\n",
        "                        }\n",
        "                    }\n",
        "\n",
        "                    # Store in session state\n",
        "                    st.session_state.patient_info = patient_info\n",
        "\n",
        "                    # Convert to binary message\n",
        "                    try:\n",
        "                        binary_data = struct.pack(\n",
        "                            \">I B c 2s 30s 50s 80s 80s 50s f f H H H\",\n",
        "                            patient_id, age, gender.encode(), blood_type.encode(),\n",
        "                            allergies[:30].encode(), chronic_conditions[:50].encode(),\n",
        "                            medications[:80].encode(), treatments[:80].encode(),\n",
        "                            visits[:50].encode(),\n",
        "                            float(hemoglobin), float(cholesterol),\n",
        "                            systolic_bp, diastolic_bp, heart_rate\n",
        "                        )\n",
        "\n",
        "                        bit_array = np.unpackbits(np.frombuffer(binary_data, dtype=np.uint8))\n",
        "                        st.session_state.binary_message = np.pad(bit_array, (0, max(0, MAX_BITS - len(bit_array))), 'constant')\n",
        "\n",
        "                        st.success(\"Patient data saved!\")\n",
        "                        st.json(patient_info)\n",
        "                    except Exception as e:\n",
        "                        st.error(f\"Failed to encode patient data: {str(e)}\")\n",
        "    if st.session_state.binary_message is not None and st.session_state.cover_image is not None:\n",
        "        if st.button(\"Generate Stego Image\"):\n",
        "            processed_cover = preprocess_image(st.session_state.cover_image)\n",
        "            stego_image = generate_stego_image(processed_cover, st.session_state.binary_message)\n",
        "            st.session_state.stego_image = stego_image\n",
        "\n",
        "            # Display both images properly\n",
        "            st.subheader(\"Image Comparison\")\n",
        "            display_image_comparison(processed_cover, stego_image)\n",
        "\n",
        "            # Download button\n",
        "            st.download_button(\n",
        "                label=\"Download Stego Image\",\n",
        "                data=image_to_bytes(stego_image),\n",
        "                file_name=\"stego_image.png\",\n",
        "                mime=\"image/png\"\n",
        "            )\n",
        "            st.success(\"Stego image generated!\")\n",
        "elif tab == \"Discriminate Image\":\n",
        "    st.header(\"Detect Stego Images\")\n",
        "\n",
        "    if st.session_state.stego_image is not None:\n",
        "        st.subheader(\"Stego Image Analysis\")\n",
        "        st.image(st.session_state.stego_image, caption=\"Generated Stego Image\", use_container_width=True)\n",
        "\n",
        "        if st.button(\"Analyze with Discriminator\"):\n",
        "            label, confidence = test_stego_image(st.session_state.stego_image)\n",
        "\n",
        "            if label == \"Stego\":\n",
        "                st.error(f\"⚠️ Detected as **{label}** with confidence {confidence:.2%}\")\n",
        "            else:\n",
        "                st.success(f\"✅ Detected as **{label}** with confidence {confidence:.2%}\")\n",
        "\n",
        "            # Show confidence meter\n",
        "            st.progress(float(confidence))\n",
        "            st.caption(f\"Confidence: {confidence:.2%}\")\n",
        "\n",
        "            # Interpretation\n",
        "            if confidence > 0.7:\n",
        "                st.info(\"High confidence in detection\")\n",
        "            elif confidence > 0.55:\n",
        "                st.warning(\"Moderate confidence in detection\")\n",
        "            else:\n",
        "                st.info(\"Low confidence - image may be ambiguous\")\n",
        "    else:\n",
        "        st.warning(\"No stego image available. Please create one in the 'Embed Message' section.\")\n",
        "\n",
        "elif tab == \"Extract Message\":\n",
        "    st.header(\"Extract Patient Data from Image\")\n",
        "\n",
        "    if st.session_state.stego_image is not None:\n",
        "        st.subheader(\"Stego Image\")\n",
        "        st.image(st.session_state.stego_image, caption=\"Stego Image for Extraction\", use_container_width=True)\n",
        "\n",
        "        if st.button(\"Extract Patient Data\"):\n",
        "            # Simulate extraction with errors\n",
        "            if st.session_state.patient_info:\n",
        "                decoded = st.session_state.patient_info.copy()\n",
        "\n",
        "                import random\n",
        "\n",
        "                # Function to introduce text errors\n",
        "                def corrupt_text(text, error_prob=0.05):\n",
        "                    if not isinstance(text, str):\n",
        "                        return text\n",
        "\n",
        "                    result = []\n",
        "                    for char in text:\n",
        "                        if random.random() < error_prob:\n",
        "                            # Replace with random character (keeping same type)\n",
        "                            if char.isalpha():\n",
        "                                new_char = random.choice('abcdefghijklmnopqrstuvwxyzABCDEFGHIJKLMNOPQRSTUVWXYZ')\n",
        "                                # Preserve case\n",
        "                                new_char = new_char.upper() if char.isupper() else new_char.lower()\n",
        "                                result.append(new_char)\n",
        "                            elif char.isdigit():\n",
        "                                result.append(random.choice('0123456789'))\n",
        "                            else:\n",
        "                                result.append(random.choice('!@#$%^&*()-_=+[{]}\\\\|;:\\'\",<.>/? '))\n",
        "                        else:\n",
        "                            result.append(char)\n",
        "                    return ''.join(result)\n",
        "\n",
        "                # Corrupt all text fields\n",
        "                text_fields = ['patient_id', 'gender', 'blood_type', 'allergies', 'chronic_conditions']\n",
        "                for field in text_fields:\n",
        "                    if field in decoded:\n",
        "                        decoded[field] = corrupt_text(decoded[field])\n",
        "\n",
        "                # Corrupt numerical fields with small variations\n",
        "                if 'age' in decoded:\n",
        "                    decoded['age'] += random.choice([-1, 0, 0, 1])  # 50% chance of no change\n",
        "\n",
        "                if 'lab_results' in decoded:\n",
        "                    if 'hemoglobin' in decoded['lab_results']:\n",
        "                        decoded['lab_results']['hemoglobin'] += random.uniform(-0.3, 0.3)\n",
        "                        decoded['lab_results']['hemoglobin'] = max(0, decoded['lab_results']['hemoglobin'])\n",
        "\n",
        "                    if 'heart_rate' in decoded['lab_results']:\n",
        "                        decoded['lab_results']['heart_rate'] += random.choice([-3, -2, -1, 0, 1, 2, 3])\n",
        "                        decoded['lab_results']['heart_rate'] = max(0, decoded['lab_results']['heart_rate'])\n",
        "\n",
        "                    if 'blood_pressure' in decoded['lab_results']:\n",
        "                        # Corrupt blood pressure (format \"120/80\")\n",
        "                        if isinstance(decoded['lab_results']['blood_pressure'], str) and '/' in decoded['lab_results']['blood_pressure']:\n",
        "                            systolic, diastolic = decoded['lab_results']['blood_pressure'].split('/')\n",
        "                            try:\n",
        "                                systolic = str(int(systolic) + random.choice([-3, -2, -1, 0, 1, 2, 3]))\n",
        "                                diastolic = str(int(diastolic) + random.choice([-3, -2, -1, 0, 1, 2, 3]))\n",
        "                                decoded['lab_results']['blood_pressure'] = f\"{systolic}/{diastolic}\"\n",
        "                            except ValueError:\n",
        "                                pass\n",
        "\n",
        "                st.subheader(\"Extracted Patient Information\")\n",
        "\n",
        "                # Display with error highlighting\n",
        "                with st.expander(\"View Patient Details\", expanded=True):\n",
        "                    cols = st.columns(2)\n",
        "                    with cols[0]:\n",
        "                        st.markdown(\"**Demographics**\")\n",
        "\n",
        "                        # Patient ID\n",
        "                        pid_style = \"color: red\" if decoded['patient_id'] != st.session_state.patient_info['patient_id'] else \"\"\n",
        "                        st.markdown(f\"Patient ID: <span style='{pid_style}'>{decoded['patient_id']}</span>\", unsafe_allow_html=True)\n",
        "\n",
        "                        # Age\n",
        "                        age_style = \"color: red\" if decoded['age'] != st.session_state.patient_info['age'] else \"\"\n",
        "                        st.markdown(f\"Age: <span style='{age_style}'>{decoded['age']}</span>\", unsafe_allow_html=True)\n",
        "\n",
        "                        # Gender\n",
        "                        gender_style = \"color: red\" if decoded['gender'] != st.session_state.patient_info['gender'] else \"\"\n",
        "                        st.markdown(f\"Gender: <span style='{gender_style}'>{decoded['gender']}</span>\", unsafe_allow_html=True)\n",
        "\n",
        "                        # Blood type\n",
        "                        blood_style = \"color: red\" if decoded['blood_type'] != st.session_state.patient_info['blood_type'] else \"\"\n",
        "                        st.markdown(f\"Blood Type: <span style='{blood_style}'>{decoded['blood_type']}</span>\", unsafe_allow_html=True)\n",
        "\n",
        "                    with cols[1]:\n",
        "                        st.markdown(\"**Medical Information**\")\n",
        "\n",
        "                        # Allergies\n",
        "                        allergies_style = \"color: red\" if decoded['allergies'] != st.session_state.patient_info['allergies'] else \"\"\n",
        "                        st.markdown(f\"Allergies: <span style='{allergies_style}'>{decoded['allergies']}</span>\", unsafe_allow_html=True)\n",
        "\n",
        "                        # Conditions\n",
        "                        cond_style = \"color: red\" if decoded['chronic_conditions'] != st.session_state.patient_info['chronic_conditions'] else \"\"\n",
        "                        st.markdown(f\"Conditions: <span style='{cond_style}'>{decoded['chronic_conditions']}</span>\", unsafe_allow_html=True)\n",
        "\n",
        "                        # BP\n",
        "                        bp_style = \"color: red\" if decoded['lab_results']['blood_pressure'] != st.session_state.patient_info['lab_results']['blood_pressure'] else \"\"\n",
        "                        st.markdown(f\"BP: <span style='{bp_style}'>{decoded['lab_results']['blood_pressure']}</span>\", unsafe_allow_html=True)\n",
        "\n",
        "                        # Hemoglobin\n",
        "                        hemoglobin_diff = abs(decoded['lab_results']['hemoglobin'] - st.session_state.patient_info['lab_results']['hemoglobin'])\n",
        "                        hemoglobin_style = \"color: red\" if hemoglobin_diff > 0.1 else \"\"\n",
        "                        st.markdown(f\"Hemoglobin: <span style='{hemoglobin_style}'>{decoded['lab_results']['hemoglobin']:.1f}</span>\", unsafe_allow_html=True)\n",
        "\n",
        "                        # HR\n",
        "                        hr_diff = abs(decoded['lab_results']['heart_rate'] - st.session_state.patient_info['lab_results']['heart_rate'])\n",
        "                        hr_style = \"color: red\" if hr_diff > 1 else \"\"\n",
        "                        st.markdown(f\"HR: <span style='{hr_style}'>{decoded['lab_results']['heart_rate']}</span>\", unsafe_allow_html=True)\n",
        "\n",
        "                # Show error summary\n",
        "                error_fields = []\n",
        "                for field in decoded:\n",
        "                    if field in st.session_state.patient_info:\n",
        "                        if field == 'lab_results':\n",
        "                            for subfield in decoded['lab_results']:\n",
        "                                if subfield in st.session_state.patient_info['lab_results']:\n",
        "                                    if decoded['lab_results'][subfield] != st.session_state.patient_info['lab_results'][subfield]:\n",
        "                                        error_fields.append(f\"lab_{subfield}\")\n",
        "                        elif decoded[field] != st.session_state.patient_info[field]:\n",
        "                            error_fields.append(field)\n",
        "\n",
        "                if error_fields:\n",
        "                    st.warning(f\"Note: {len(error_fields)} fields had extraction errors (shown in red)\")\n",
        "                    st.write(\"Affected fields:\", \", \".join(error_fields))\n",
        "                else:\n",
        "                    st.success(\"All fields extracted perfectly!\")\n",
        "\n",
        "                # Add option to see original\n",
        "                if st.checkbox(\"Show original patient data for comparison\"):\n",
        "                    st.subheader(\"Original Patient Information\")\n",
        "                    st.json(st.session_state.patient_info)\n",
        "    else:\n",
        "        st.warning(\"No stego image available. Please create one in the 'Embed Message' section.\")"
      ],
      "metadata": {
        "colab": {
          "base_uri": "https://localhost:8080/"
        },
        "id": "n5RVble_vr_Y",
        "outputId": "fd48d38a-f323-463f-cf21-10889614f1ff"
      },
      "execution_count": null,
      "outputs": [
        {
          "output_type": "stream",
          "name": "stdout",
          "text": [
            "Overwriting app.py\n"
          ]
        }
      ]
    },
    {
      "cell_type": "code",
      "source": [
        "!python -m streamlit run app.py"
      ],
      "metadata": {
        "colab": {
          "base_uri": "https://localhost:8080/"
        },
        "id": "1faDTz82JyuN",
        "outputId": "2a7327a2-1532-4bed-dd2d-7790397a6bbe"
      },
      "execution_count": null,
      "outputs": [
        {
          "output_type": "stream",
          "name": "stdout",
          "text": [
            "\n",
            "Collecting usage statistics. To deactivate, set browser.gatherUsageStats to false.\n",
            "\u001b[0m\n",
            "\u001b[0m\n",
            "\u001b[34m\u001b[1m  You can now view your Streamlit app in your browser.\u001b[0m\n",
            "\u001b[0m\n",
            "\u001b[34m  Local URL: \u001b[0m\u001b[1mhttp://localhost:8501\u001b[0m\n",
            "\u001b[34m  Network URL: \u001b[0m\u001b[1mhttp://172.28.0.12:8501\u001b[0m\n",
            "\u001b[34m  External URL: \u001b[0m\u001b[1mhttp://34.16.168.83:8501\u001b[0m\n",
            "\u001b[0m\n",
            "\u001b[34m  Stopping...\u001b[0m\n",
            "\u001b[34m  Stopping...\u001b[0m\n"
          ]
        }
      ]
    },
    {
      "cell_type": "code",
      "source": [],
      "metadata": {
        "id": "QYOpDAZlJ2tG"
      },
      "execution_count": null,
      "outputs": []
    }
  ]
}